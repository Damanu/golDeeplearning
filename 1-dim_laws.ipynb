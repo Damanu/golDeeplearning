{
 "cells": [
  {
   "cell_type": "markdown",
   "id": "32ed6347",
   "metadata": {},
   "source": [
    "# 1 dimensional laws"
   ]
  },
  {
   "cell_type": "code",
   "execution_count": 43,
   "id": "8389a4e5",
   "metadata": {},
   "outputs": [],
   "source": [
    "import argparse\n",
    "import numpy as np\n",
    "import matplotlib.pyplot as plt\n",
    "import matplotlib.animation as animation\n",
    "import tensorflow as tf\n",
    "from sympy import poly\n",
    "from sympy.abc import x,y,z, k\n",
    "from sympy import degree\n",
    "from sympy import *\n",
    "import sympy"
   ]
  },
  {
   "cell_type": "markdown",
   "id": "9c5d401d",
   "metadata": {},
   "source": [
    "## Wolfram's 256 Rules"
   ]
  },
  {
   "cell_type": "markdown",
   "id": "fdbd0766",
   "metadata": {},
   "source": [
    "These are all cellular automaton rules for a 1-d array with only neares neighbour interaction. There are therefore only three cells (L,C,R) determining the outcome of one cell (C). This gives 2^3=8 possible combinations that can give rise to an outcome of 2 possibilities. Thus there are 2^8=256 possible rules. \n",
    "\n",
    "The following function generates each of these rules.\n",
    " \n",
    "Input:  \n",
    "num = number of rule  \n",
    "inp = string of input bits   \n",
    "t = number of timesteps calculated  \n",
    "\n",
    "Output: an array of arrays each for one timestep beginning with the input array. \n",
    "\n",
    "The boudary conditions are periodic\n",
    "        "
   ]
  },
  {
   "cell_type": "code",
   "execution_count": 32,
   "id": "88558917",
   "metadata": {},
   "outputs": [],
   "source": [
    "def CellularAutomata(num,inp,t):\n",
    "    bnum = np.flip(np.fromiter(np.binary_repr(num,width=8),dtype=int))\n",
    "    out = [np.fromiter(inp,dtype=int)]\n",
    "    lin = len(inp)\n",
    "    currinp = inp\n",
    "    for n in range(t):\n",
    "        outnow = []\n",
    "        for i in range(len(inp)):\n",
    "            outnow = np.append(outnow,bnum[int(str(currinp[(i-1)%lin])+str(currinp[(i)%lin])+str(currinp[(i+1)%lin]),2)])\n",
    "\n",
    "        currinp =''.join([str(int(elem)) for elem in outnow])\n",
    "        out = np.append(out,[outnow],axis=0)\n",
    "    return(out)\n"
   ]
  },
  {
   "cell_type": "markdown",
   "id": "1c679bb9",
   "metadata": {},
   "source": [
    "## Pol deg of rule\n",
    "\n",
    "Resources on sympy for polynomials: https://docs.sympy.org/latest/modules/polys/reference.html  \n",
    "\n",
    "Input: Rule number (integer)  \n",
    "Output: Polynomial degree of rule (integer)"
   ]
  },
  {
   "cell_type": "code",
   "execution_count": 209,
   "id": "5191e8ac",
   "metadata": {},
   "outputs": [],
   "source": [
    "def one(a,x):\n",
    "    u=1\n",
    "    for i in range(len(x)):\n",
    "        u=u*(1+(2*a[i]-1)*(2*x[i]-1))/2\n",
    "    return(u.expand())\n",
    "\n",
    "def ACAP(num):\n",
    "    u=0\n",
    "    x=[sympy.Symbol('x1'),sympy.Symbol('x2'),sympy.Symbol('x3')]\n",
    "    for i in [0,1]:\n",
    "        for j in [0,1]:\n",
    "            for l in [0,1]:\n",
    "                u=u+CellularAutomata(num,[i,j,l],1)[1,1]*one([i,j,l],x)\n",
    "    return(u)\n",
    "    \n",
    "                \n",
    "def PolyDegOfRule(num):\n",
    "    return(sympy.degree(ACAP(num).subs('x1','x').subs('x2','x').subs('x3','x'),gen=sympy.Symbol('x')))"
   ]
  },
  {
   "cell_type": "markdown",
   "id": "d2a7aed1",
   "metadata": {},
   "source": [
    "## Generating Data"
   ]
  },
  {
   "cell_type": "code",
   "execution_count": 189,
   "id": "dd85489a",
   "metadata": {},
   "outputs": [],
   "source": [
    "N=10000 #batch size\n",
    "L=3 #Length of box\n",
    "rule= 22 #170 is movement to the left x_i' = x_{i+1}\n",
    "time = 1\n",
    "\n",
    "x_train=[]\n",
    "y_train=[]\n",
    "\n",
    "\n",
    "for i in range(N):\n",
    "    #x=[0,0,0]\n",
    "    #x[np.random.randint(0,3)]=1\n",
    "    x=np.random.randint(0,2,L).astype(float)\n",
    "    x_train.append(np.copy(x))\n",
    "    #y_train.append(np.copy(CellularAutomata(rule,''.join([str(int(elem)) for elem in x]),time)[time]))\n",
    "    y_train.append(np.copy(CellularAutomata(rule,''.join([str(int(elem)) for elem in x]),time)[time,1]))\n",
    "    #print(''.join([str(int(elem)) for elem in x]),CellularAutomata(rule,''.join([str(int(elem)) for elem in x]),time)[time,0])\n",
    "\n",
    "#for i in range(20):\n",
    " #   print(x_train[i],y_train[i])\n",
    "    \n",
    "x_train = np.array(x_train).reshape(N,L,1)\n",
    "y_train = np.array(y_train).reshape(N,1)\n",
    "#print(x_train.shape,y_train.shape)\n",
    "#print(x_train[0],y_train[0],CellularAutomata(rule,''.join([str(int(elem)) for elem in x_train[0]]),time)[time])"
   ]
  },
  {
   "cell_type": "markdown",
   "id": "caf11431",
   "metadata": {},
   "source": [
    "## Models\n",
    "useful resource for understanding what is going on:  \n",
    "Padding https://machinelearningmastery.com/padding-and-stride-for-convolutional-neural-networks/  \n",
    "Guide to 2d conv layers https://machinelearningmastery.com/padding-and-stride-for-convolutional-neural-networks/  \n",
    "Guide to 1d conv layers https://machinelearningmastery.com/convolutional-layers-for-deep-learning-neural-networks/  \n",
    "shapes, dimensions and units https://stackoverflow.com/questions/44747343/keras-input-explanation-input-shape-units-batch-size-dim-etc  \n"
   ]
  },
  {
   "cell_type": "markdown",
   "id": "e4f8968d",
   "metadata": {},
   "source": [
    "### Dense layers"
   ]
  },
  {
   "cell_type": "markdown",
   "id": "5bf2eb79",
   "metadata": {},
   "source": [
    "### 1-D Convolutional layer"
   ]
  },
  {
   "cell_type": "markdown",
   "id": "6ef5f740",
   "metadata": {},
   "source": [
    "Tutorial custom layers: https://www.tensorflow.org/tutorials/customization/custom_layers"
   ]
  },
  {
   "cell_type": "code",
   "execution_count": 29,
   "id": "d246323a",
   "metadata": {},
   "outputs": [
    {
     "name": "stdout",
     "output_type": "stream",
     "text": [
      "[[[0.]\n",
      "  [0.]\n",
      "  [1.]]\n",
      "\n",
      " [[1.]\n",
      "  [0.]\n",
      "  [0.]]\n",
      "\n",
      " [[1.]\n",
      "  [0.]\n",
      "  [0.]]]\n",
      "[[1.]\n",
      " [0.]\n",
      " [0.]]\n",
      "tf.Tensor(\n",
      "[[-1.0037558]\n",
      " [ 0.3361076]\n",
      " [ 0.3361076]], shape=(3, 1), dtype=float32)\n",
      "[array([[0., 0., 1.]], dtype=float32)]\n"
     ]
    }
   ],
   "source": [
    "class SimpleConv(tf.keras.layers.Layer):\n",
    "    def __init__(self, num_neighbours):\n",
    "        super(SimpleConv, self).__init__()\n",
    "        self.num_neighbours = num_neighbours\n",
    "\n",
    "    def build(self, input_shape):\n",
    "        self.kernel = self.add_weight(\"kernel\",\n",
    "                                      shape=[int(input_shape[-1]),\n",
    "                                             self.num_neighbours])\n",
    "#        self.kernel = self.add_weight(\"kernel\",tf.constant([[0],[0],[1]]))\n",
    "    #        self.bias = self.add_weight(\"bias\",\n",
    "#                                      shape=[int(input_shape[-1]),\n",
    " #                                            self.num_neighbours])\n",
    "\n",
    "    def call(self, inputs):\n",
    "        inshape = tf.shape(inputs)\n",
    "#        return tf.matmul(inputs, self.kernel)\n",
    "        return tf.reshape(tf.tensordot(inputs,self.kernel,axes=2),(inshape[0],1))\n",
    "#        return tf.reshape(tf.tensordot(inputs,tf.constant([[0.,0,1]]),axes=2),(inshape[0],1))\n",
    "\n",
    "layer = SimpleConv(3)\n",
    "print(x_train[0:3])\n",
    "print(y_train[0:3])\n",
    "#layer.set_weights(np.array([1]))\n",
    "print(layer(x_train[0:3]))\n",
    "layer.set_weights([np.array([[0,0,1]])])\n",
    "print(layer.get_weights())\n"
   ]
  },
  {
   "cell_type": "code",
   "execution_count": 30,
   "id": "ae8af720",
   "metadata": {},
   "outputs": [
    {
     "name": "stdout",
     "output_type": "stream",
     "text": [
      "[[[0.]\n",
      "  [0.]\n",
      "  [1.]]\n",
      "\n",
      " [[1.]\n",
      "  [0.]\n",
      "  [0.]]\n",
      "\n",
      " [[1.]\n",
      "  [0.]\n",
      "  [0.]]\n",
      "\n",
      " [[0.]\n",
      "  [1.]\n",
      "  [1.]]\n",
      "\n",
      " [[0.]\n",
      "  [1.]\n",
      "  [0.]]]\n",
      "[[1.]\n",
      " [0.]\n",
      " [0.]\n",
      " [1.]\n",
      " [0.]]\n",
      "tf.Tensor(\n",
      "[[1.]\n",
      " [0.]\n",
      " [0.]\n",
      " [1.]\n",
      " [0.]], shape=(5, 1), dtype=float32)\n",
      "[array([[0., 0., 1.]], dtype=float32)]\n"
     ]
    }
   ],
   "source": [
    "#layer = SimpleConv()\n",
    "inp = x_train[0:5]\n",
    "\n",
    "print(inp)\n",
    "print( y_train[0:5])\n",
    "#print(inp.shape)\n",
    "#layer(inp)\n",
    "#layer = tf.keras.layers.Conv1D(\n",
    "#1,3, activation='relu', input_shape=((3,1)))\n",
    "print(layer(inp))\n",
    "print(layer.get_weights())\n"
   ]
  },
  {
   "cell_type": "code",
   "execution_count": 190,
   "id": "be67d0ab",
   "metadata": {
    "scrolled": false
   },
   "outputs": [
    {
     "name": "stdout",
     "output_type": "stream",
     "text": [
      "Model: \"sequential_43\"\n",
      "_________________________________________________________________\n",
      "Layer (type)                 Output Shape              Param #   \n",
      "=================================================================\n",
      "simple_conv_65 (SimpleConv)  (None, 1)                 3         \n",
      "_________________________________________________________________\n",
      "reshape_37 (Reshape)         (None, 1, 1)              0         \n",
      "_________________________________________________________________\n",
      "simple_conv_66 (SimpleConv)  (None, 1)                 1         \n",
      "_________________________________________________________________\n",
      "reshape_38 (Reshape)         (None, 1, 1)              0         \n",
      "_________________________________________________________________\n",
      "simple_conv_67 (SimpleConv)  (None, 1)                 1         \n",
      "_________________________________________________________________\n",
      "reshape_39 (Reshape)         (None, 1, 1)              0         \n",
      "_________________________________________________________________\n",
      "simple_conv_68 (SimpleConv)  (None, 1)                 1         \n",
      "_________________________________________________________________\n",
      "reshape_40 (Reshape)         (None, 1, 1)              0         \n",
      "_________________________________________________________________\n",
      "simple_conv_69 (SimpleConv)  (None, 1)                 1         \n",
      "_________________________________________________________________\n",
      "reshape_41 (Reshape)         (None, 1, 1)              0         \n",
      "_________________________________________________________________\n",
      "simple_conv_70 (SimpleConv)  (None, 1)                 1         \n",
      "_________________________________________________________________\n",
      "reshape_42 (Reshape)         (None, 1, 1)              0         \n",
      "_________________________________________________________________\n",
      "simple_conv_71 (SimpleConv)  (None, 1)                 1         \n",
      "_________________________________________________________________\n",
      "reshape_43 (Reshape)         (None, 1, 1)              0         \n",
      "_________________________________________________________________\n",
      "simple_conv_72 (SimpleConv)  (None, 1)                 1         \n",
      "_________________________________________________________________\n",
      "reshape_44 (Reshape)         (None, 1, 1)              0         \n",
      "_________________________________________________________________\n",
      "simple_conv_73 (SimpleConv)  (None, 1)                 1         \n",
      "_________________________________________________________________\n",
      "reshape_45 (Reshape)         (None, 1, 1)              0         \n",
      "_________________________________________________________________\n",
      "simple_conv_74 (SimpleConv)  (None, 1)                 1         \n",
      "_________________________________________________________________\n",
      "reshape_46 (Reshape)         (None, 1, 1)              0         \n",
      "_________________________________________________________________\n",
      "simple_conv_75 (SimpleConv)  (None, 1)                 1         \n",
      "_________________________________________________________________\n",
      "reshape_47 (Reshape)         (None, 1, 1)              0         \n",
      "_________________________________________________________________\n",
      "simple_conv_76 (SimpleConv)  (None, 1)                 1         \n",
      "=================================================================\n",
      "Total params: 14\n",
      "Trainable params: 14\n",
      "Non-trainable params: 0\n",
      "_________________________________________________________________\n"
     ]
    }
   ],
   "source": [
    "model = tf.keras.models.Sequential()\n",
    "model.add(tf.keras.layers.InputLayer((3,1))) \n",
    "#model.add(tf.keras.layers.Flatten())\n",
    "#model.add(tf.keras.layers.Dense(3,activation=\"relu\"))\n",
    "#model.add(tf.keras.layers.Reshape((3,1)))\n",
    "model.add(SimpleConv(3))\n",
    "model.add(tf.keras.layers.Reshape((1,1)))\n",
    "model.add(SimpleConv(1))\n",
    "model.add(tf.keras.layers.Reshape((1,1)))\n",
    "model.add(SimpleConv(1))\n",
    "model.add(tf.keras.layers.Reshape((1,1)))\n",
    "model.add(SimpleConv(1))\n",
    "model.add(tf.keras.layers.Reshape((1,1)))\n",
    "model.add(SimpleConv(1))\n",
    "model.add(tf.keras.layers.Reshape((1,1)))\n",
    "model.add(SimpleConv(1))\n",
    "model.add(tf.keras.layers.Reshape((1,1)))\n",
    "model.add(SimpleConv(1))\n",
    "model.add(tf.keras.layers.Reshape((1,1)))\n",
    "model.add(SimpleConv(1))\n",
    "model.add(tf.keras.layers.Reshape((1,1)))\n",
    "model.add(SimpleConv(1))\n",
    "model.add(tf.keras.layers.Reshape((1,1)))\n",
    "model.add(SimpleConv(1))\n",
    "model.add(tf.keras.layers.Reshape((1,1)))\n",
    "model.add(SimpleConv(1))\n",
    "model.add(tf.keras.layers.Reshape((1,1)))\n",
    "model.add(SimpleConv(1))\n",
    "#model.add(tf.keras.layers.Conv1D(1,3, activation='softmax', input_shape=((3,1))))\n",
    "#model.add(tf.keras.layers.Conv1D(100,3, activation='relu', input_shape=((1,100))))\n",
    "\n",
    "#model.add(tf.keras.layers.Softmax())\n",
    "#tf.keras.layers.Activation('sigmoid')\n",
    "\n",
    "#model.add(tf.keras.activations.sigmoid())\n",
    "#model.add(tf.keras.layers.Dense(3,activation=\"relu\"))\n",
    "#model.add(tf.keras.layers.Dense(1,activation=\"softmax\"))\n",
    "#model.layers[0].set_weights([np.array([[1,1,1]])])#Initializing with almost the right law converges, but never with sometheing a bit more off\n",
    "model.summary()"
   ]
  },
  {
   "cell_type": "markdown",
   "id": "fefdf7ed",
   "metadata": {},
   "source": [
    "## Execute learning"
   ]
  },
  {
   "cell_type": "code",
   "execution_count": 192,
   "id": "f851c8a4",
   "metadata": {},
   "outputs": [
    {
     "name": "stdout",
     "output_type": "stream",
     "text": [
      "3.1640391\n",
      "Epoch 1/20\n",
      "313/313 [==============================] - 2s 1ms/step - loss: 0.3894 - accuracy: 0.6201\n",
      "Epoch 2/20\n",
      "313/313 [==============================] - 0s 1ms/step - loss: 0.3799 - accuracy: 0.6201\n",
      "Epoch 3/20\n",
      "313/313 [==============================] - 0s 1ms/step - loss: 0.3799 - accuracy: 0.6201\n",
      "Epoch 4/20\n",
      "313/313 [==============================] - 0s 1ms/step - loss: 0.3799 - accuracy: 0.6201\n",
      "Epoch 5/20\n",
      "313/313 [==============================] - 0s 1ms/step - loss: 0.3799 - accuracy: 0.6201\n",
      "Epoch 6/20\n",
      "313/313 [==============================] - 0s 1ms/step - loss: 0.3799 - accuracy: 0.6201\n",
      "Epoch 7/20\n",
      "313/313 [==============================] - 0s 1ms/step - loss: 0.3799 - accuracy: 0.6201\n",
      "Epoch 8/20\n",
      "313/313 [==============================] - 0s 1ms/step - loss: 0.3799 - accuracy: 0.6201\n",
      "Epoch 9/20\n",
      "313/313 [==============================] - 0s 1ms/step - loss: 0.3799 - accuracy: 0.6201\n",
      "Epoch 10/20\n",
      "313/313 [==============================] - 0s 1ms/step - loss: 0.3799 - accuracy: 0.6201\n",
      "Epoch 11/20\n",
      "313/313 [==============================] - 0s 1ms/step - loss: 0.3799 - accuracy: 0.6201\n",
      "Epoch 12/20\n",
      "313/313 [==============================] - 0s 1ms/step - loss: 0.3799 - accuracy: 0.6201\n",
      "Epoch 13/20\n",
      "313/313 [==============================] - 0s 1ms/step - loss: 0.3799 - accuracy: 0.6201\n",
      "Epoch 14/20\n",
      "313/313 [==============================] - 0s 1ms/step - loss: 0.3799 - accuracy: 0.6201\n",
      "Epoch 15/20\n",
      "313/313 [==============================] - 0s 1ms/step - loss: 0.3799 - accuracy: 0.6201\n",
      "Epoch 16/20\n",
      "313/313 [==============================] - 0s 1ms/step - loss: 0.3799 - accuracy: 0.6201\n",
      "Epoch 17/20\n",
      "313/313 [==============================] - 0s 2ms/step - loss: 0.3799 - accuracy: 0.6201\n",
      "Epoch 18/20\n",
      "313/313 [==============================] - 0s 1ms/step - loss: 0.3799 - accuracy: 0.6201\n",
      "Epoch 19/20\n",
      "313/313 [==============================] - 0s 2ms/step - loss: 0.3799 - accuracy: 0.6201\n",
      "Epoch 20/20\n",
      "313/313 [==============================] - 0s 1ms/step - loss: 0.3799 - accuracy: 0.6201\n"
     ]
    },
    {
     "data": {
      "text/plain": [
       "[<matplotlib.lines.Line2D at 0x7f1e3a7db970>]"
      ]
     },
     "execution_count": 192,
     "metadata": {},
     "output_type": "execute_result"
    },
    {
     "data": {
      "image/png": "[encoded data removed]",
      "text/plain": [
       "<Figure size 432x288 with 1 Axes>"
      ]
     },
     "metadata": {
      "needs_background": "light"
     },
     "output_type": "display_data"
    }
   ],
   "source": [
    "#loss_fn = tf.keras.losses.BinaryCrossentropy(from_logits=True) #Logits true means output values are any real numbers\n",
    "loss_fn = tf.keras.losses.MeanSquaredError()\n",
    "#loss_fn = tf.keras.losses.CategoricalCrossentropy(from_logits=True)\n",
    "\n",
    "predictions = model(x_train).numpy()\n",
    "print(loss_fn(y_train, predictions).numpy())\n",
    "\n",
    "model.compile(optimizer=tf.keras.optimizers.Adam(learning_rate=0.1),\n",
    "              loss=loss_fn,\n",
    "              #metrics=[tf.keras.metrics.BinaryAccuracy()]\n",
    "              metrics=['accuracy']\n",
    "                #metrics= [tf.keras.losses.CategoricalCrossentropy()]\n",
    "             )\n",
    "train_history = model.fit(x=x_train, y=y_train, epochs=20,verbose=1)\n",
    "plt.title(\"Loss\")\n",
    "plt.plot(train_history.history['loss'], 'k')"
   ]
  },
  {
   "cell_type": "code",
   "execution_count": 187,
   "id": "2ba25372",
   "metadata": {},
   "outputs": [
    {
     "name": "stdout",
     "output_type": "stream",
     "text": [
      "[[0.]\n",
      " [1.]\n",
      " [0.]\n",
      " [1.]\n",
      " [0.]\n",
      " [0.]\n",
      " [0.]\n",
      " [0.]\n",
      " [1.]\n",
      " [1.]\n",
      " [0.]\n",
      " [1.]\n",
      " [1.]\n",
      " [0.]\n",
      " [1.]\n",
      " [0.]\n",
      " [1.]\n",
      " [1.]\n",
      " [1.]\n",
      " [0.]]\n"
     ]
    },
    {
     "ename": "TypeError",
     "evalue": "can't multiply sequence by non-int of type 'numpy.float64'",
     "output_type": "error",
     "traceback": [
      "\u001b[0;31m---------------------------------------------------------------------------\u001b[0m",
      "\u001b[0;31mTypeError\u001b[0m                                 Traceback (most recent call last)",
      "\u001b[0;32m/tmp/ipykernel_6087/2613405420.py\u001b[0m in \u001b[0;36m<module>\u001b[0;34m\u001b[0m\n\u001b[1;32m      5\u001b[0m \u001b[0;31m#print(sum(np.around(tf.keras.activations.sigmoid(model.get_weights()[0]))[:],[\"x1\",\"+ x2\",\"+ x3\"][:]))\u001b[0m\u001b[0;34m\u001b[0m\u001b[0;34m\u001b[0m\u001b[0;34m\u001b[0m\u001b[0m\n\u001b[1;32m      6\u001b[0m \u001b[0mweights\u001b[0m\u001b[0;34m=\u001b[0m\u001b[0mnp\u001b[0m\u001b[0;34m.\u001b[0m\u001b[0maround\u001b[0m\u001b[0;34m(\u001b[0m\u001b[0mtf\u001b[0m\u001b[0;34m.\u001b[0m\u001b[0mkeras\u001b[0m\u001b[0;34m.\u001b[0m\u001b[0mactivations\u001b[0m\u001b[0;34m.\u001b[0m\u001b[0msigmoid\u001b[0m\u001b[0;34m(\u001b[0m\u001b[0mmodel\u001b[0m\u001b[0;34m.\u001b[0m\u001b[0mget_weights\u001b[0m\u001b[0;34m(\u001b[0m\u001b[0;34m)\u001b[0m\u001b[0;34m[\u001b[0m\u001b[0;36m0\u001b[0m\u001b[0;34m]\u001b[0m\u001b[0;34m)\u001b[0m\u001b[0;34m)\u001b[0m\u001b[0;34m\u001b[0m\u001b[0;34m\u001b[0m\u001b[0m\n\u001b[0;32m----> 7\u001b[0;31m \u001b[0mlaw\u001b[0m\u001b[0;34m=\u001b[0m\u001b[0;34m\"x0\"\u001b[0m\u001b[0;34m*\u001b[0m\u001b[0mx\u001b[0m\u001b[0;34m[\u001b[0m\u001b[0;36m0\u001b[0m\u001b[0;34m]\u001b[0m\u001b[0;34m+\u001b[0m\u001b[0;34m\"+ x1\"\u001b[0m\u001b[0;34m*\u001b[0m\u001b[0mx\u001b[0m\u001b[0;34m[\u001b[0m\u001b[0;36m1\u001b[0m\u001b[0;34m]\u001b[0m\u001b[0;34m+\u001b[0m \u001b[0;34m\"+ x2\"\u001b[0m\u001b[0;34m*\u001b[0m\u001b[0mx\u001b[0m\u001b[0;34m[\u001b[0m\u001b[0;36m2\u001b[0m\u001b[0;34m]\u001b[0m\u001b[0;34m\u001b[0m\u001b[0;34m\u001b[0m\u001b[0m\n\u001b[0m\u001b[1;32m      8\u001b[0m \u001b[0;34m\u001b[0m\u001b[0m\n\u001b[1;32m      9\u001b[0m \u001b[0mprint\u001b[0m\u001b[0;34m(\u001b[0m\u001b[0;34m[\u001b[0m\u001b[0;36m0\u001b[0m\u001b[0;34m]\u001b[0m\u001b[0;34m*\u001b[0m\u001b[0;34m\"x1\"\u001b[0m\u001b[0;34m)\u001b[0m\u001b[0;34m\u001b[0m\u001b[0;34m\u001b[0m\u001b[0m\n",
      "\u001b[0;31mTypeError\u001b[0m: can't multiply sequence by non-int of type 'numpy.float64'"
     ]
    }
   ],
   "source": [
    "#print(x_train[0:3])\n",
    "print(y_train[20:40])\n",
    "#print(model(x_train)[20:40].numpy())\n",
    "np.around(tf.keras.activations.sigmoid(model(x_train)[20:40]))\n",
    "#print(sum(np.around(tf.keras.activations.sigmoid(model.get_weights()[0]))[:],[\"x1\",\"+ x2\",\"+ x3\"][:]))\n",
    "weights=np.around(tf.keras.activations.sigmoid(model.get_weights()[0]))"
   ]
  }
 ],
 "metadata": {
  "kernelspec": {
   "display_name": "Python 3 (ipykernel)",
   "language": "python",
   "name": "python3"
  },
  "language_info": {
   "codemirror_mode": {
    "name": "ipython",
    "version": 3
   },
   "file_extension": ".py",
   "mimetype": "text/x-python",
   "name": "python",
   "nbconvert_exporter": "python",
   "pygments_lexer": "ipython3",
   "version": "3.8.10"
  }
 },
 "nbformat": 4,
 "nbformat_minor": 5
}
