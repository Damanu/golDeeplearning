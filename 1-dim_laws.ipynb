{
 "cells": [
  {
   "cell_type": "markdown",
   "id": "32ed6347",
   "metadata": {},
   "source": [
    "# 1 dimensional laws"
   ]
  },
  {
   "cell_type": "code",
   "execution_count": 1,
   "id": "8389a4e5",
   "metadata": {},
   "outputs": [
    {
     "name": "stderr",
     "output_type": "stream",
     "text": [
      "2022-04-04 15:07:44.249860: W tensorflow/stream_executor/platform/default/dso_loader.cc:64] Could not load dynamic library 'libcudart.so.11.0'; dlerror: libcudart.so.11.0: cannot open shared object file: No such file or directory\n",
      "2022-04-04 15:07:44.249920: I tensorflow/stream_executor/cuda/cudart_stub.cc:29] Ignore above cudart dlerror if you do not have a GPU set up on your machine.\n"
     ]
    }
   ],
   "source": [
    "import argparse\n",
    "import numpy as np\n",
    "import matplotlib.pyplot as plt\n",
    "import matplotlib.animation as animation\n",
    "import tensorflow as tf"
   ]
  },
  {
   "cell_type": "markdown",
   "id": "9c5d401d",
   "metadata": {},
   "source": [
    "## Wolfram's 256 Rules"
   ]
  },
  {
   "cell_type": "markdown",
   "id": "fdbd0766",
   "metadata": {},
   "source": [
    "These are all cellular automaton rules for a 1-d array with only neares neighbour interaction. There are therefore only three cells (L,C,R) determining the outcome of one cell (C). This gives 2^3=8 possible combinations that can give rise to an outcome of 2 possibilities. Thus there are 2^8=256 possible rules. \n",
    "\n",
    "The following function generates each of these rules.\n",
    " \n",
    "Input:  \n",
    "num = number of rule  \n",
    "inp = string of input bits   \n",
    "t = number of timesteps calculated  \n",
    "\n",
    "Output: an array of arrays each for one timestep beginning with the input array. \n",
    "\n",
    "The boudary conditions are periodic\n",
    "        "
   ]
  },
  {
   "cell_type": "code",
   "execution_count": 4,
   "id": "88558917",
   "metadata": {},
   "outputs": [],
   "source": [
    "def CellularAutomata(num,inp,t):\n",
    "    bnum = np.flip(np.fromiter(np.binary_repr(num,width=8),dtype=int))\n",
    "    out = [np.fromiter(inp,dtype=int)]\n",
    "    lin = len(inp)\n",
    "    currinp = inp\n",
    "    for n in range(t):\n",
    "        outnow = []\n",
    "        for i in range(len(inp)):\n",
    "            outnow = np.append(outnow,bnum[int(str(currinp[(i-1)%lin])+str(currinp[(i)%lin])+str(currinp[(i+1)%lin]),2)])\n",
    "\n",
    "        currinp =''.join([str(int(elem)) for elem in outnow])\n",
    "        out = np.append(out,[outnow],axis=0)\n",
    "    return(out)\n"
   ]
  },
  {
   "cell_type": "markdown",
   "id": "d2a7aed1",
   "metadata": {},
   "source": [
    "## Generating Data"
   ]
  },
  {
   "cell_type": "code",
   "execution_count": 415,
   "id": "dd85489a",
   "metadata": {},
   "outputs": [],
   "source": [
    "N=1000 #batch size\n",
    "L=3 #Length of box\n",
    "rule= 170\n",
    "time = 1\n",
    "\n",
    "x_train=[]\n",
    "y_train=[]\n",
    "\n",
    "\n",
    "for i in range(N):\n",
    "    #x=[0,0,0]\n",
    "    #x[np.random.randint(0,3)]=1\n",
    "    x=np.random.randint(0,2,L).astype(float)\n",
    "    x_train.append(np.copy(x))\n",
    "    #y_train.append(np.copy(CellularAutomata(rule,''.join([str(int(elem)) for elem in x]),time)[time]))\n",
    "    y_train.append(np.copy(CellularAutomata(rule,''.join([str(int(elem)) for elem in x]),time)[time,1]))\n",
    "    #print(''.join([str(int(elem)) for elem in x]),CellularAutomata(rule,''.join([str(int(elem)) for elem in x]),time)[time,0])\n",
    "\n",
    "#for i in range(20):\n",
    " #   print(x_train[i],y_train[i])\n",
    "    \n",
    "x_train = np.array(x_train).reshape(N,L,1)\n",
    "y_train = np.array(y_train).reshape(N,1)\n",
    "#print(x_train.shape,y_train.shape)\n",
    "#print(x_train[0],y_train[0],CellularAutomata(rule,''.join([str(int(elem)) for elem in x_train[0]]),time)[time])"
   ]
  },
  {
   "cell_type": "markdown",
   "id": "caf11431",
   "metadata": {},
   "source": [
    "## Models\n",
    "useful resource for understanding what is going on:  \n",
    "Padding https://machinelearningmastery.com/padding-and-stride-for-convolutional-neural-networks/  \n",
    "Guide to 2d conv layers https://machinelearningmastery.com/padding-and-stride-for-convolutional-neural-networks/  \n",
    "Guide to 1d conv layers https://machinelearningmastery.com/convolutional-layers-for-deep-learning-neural-networks/  \n",
    "shapes, dimensions and units https://stackoverflow.com/questions/44747343/keras-input-explanation-input-shape-units-batch-size-dim-etc  \n"
   ]
  },
  {
   "cell_type": "markdown",
   "id": "e4f8968d",
   "metadata": {},
   "source": [
    "### Dense layers"
   ]
  },
  {
   "cell_type": "markdown",
   "id": "5bf2eb79",
   "metadata": {},
   "source": [
    "### 1-D Convolutional layer"
   ]
  },
  {
   "cell_type": "markdown",
   "id": "6ef5f740",
   "metadata": {},
   "source": [
    "Tutorial customb layers: https://www.tensorflow.org/tutorials/customization/custom_layers"
   ]
  },
  {
   "cell_type": "code",
   "execution_count": 451,
   "id": "a022ccbe",
   "metadata": {},
   "outputs": [
    {
     "name": "stdout",
     "output_type": "stream",
     "text": [
      "[[[1.]\n",
      "  [1.]\n",
      "  [1.]]\n",
      "\n",
      " [[1.]\n",
      "  [0.]\n",
      "  [1.]]]\n",
      "tf.Tensor([-1.1612104  -0.09187949], shape=(2,), dtype=float32)\n",
      "[array([[-1.0905125, -1.0693309,  0.998633 ]], dtype=float32)]\n"
     ]
    }
   ],
   "source": [
    "class SimpleConv(tf.keras.layers.Layer):\n",
    "    def __init__(self, num_neighbours):\n",
    "        super(SimpleConv, self).__init__()\n",
    "        self.num_neighbours = num_neighbours\n",
    "\n",
    "    def build(self, input_shape):\n",
    "        self.kernel = self.add_weight(\"kernel\",\n",
    "                                      shape=[int(input_shape[-1]),\n",
    "                                             self.num_neighbours])\n",
    "\n",
    "    def call(self, inputs):\n",
    "#        return tf.matmul(inputs, self.kernel)\n",
    "        return tf.tensordot(inputs,self.kernel,axes=2)\n",
    "layer = SimpleConv(3)\n",
    "print(x_train[0:2])\n",
    "print(layer(x_train[0:2]))\n",
    "print(layer.get_weights())"
   ]
  },
  {
   "cell_type": "code",
   "execution_count": 437,
   "id": "0e8690e0",
   "metadata": {},
   "outputs": [
    {
     "name": "stdout",
     "output_type": "stream",
     "text": [
      "[[[1.]\n",
      "  [1.]\n",
      "  [1.]]\n",
      "\n",
      " [[1.]\n",
      "  [0.]\n",
      "  [1.]]\n",
      "\n",
      " [[0.]\n",
      "  [0.]\n",
      "  [1.]]]\n",
      "3\n",
      "tf.Tensor(\n",
      "[[[0.        ]]\n",
      "\n",
      " [[0.        ]]\n",
      "\n",
      " [[0.07612252]]], shape=(3, 1, 1), dtype=float32)\n",
      "[array([[[-0.9108751 ]],\n",
      "\n",
      "       [[ 0.04261279]],\n",
      "\n",
      "       [[ 0.07612252]]], dtype=float32), array([0.], dtype=float32)]\n"
     ]
    }
   ],
   "source": [
    "#layer = SimpleConv()\n",
    "inp = x_train[0:3]\n",
    "print(inp)\n",
    "#print(inp.shape)\n",
    "#layer(inp)\n",
    "#layer = tf.keras.layers.Conv1D(\n",
    "#1,3, activation='relu', input_shape=((3,1)))\n",
    "print(layer(inp))\n",
    "print(layer.get_weights())"
   ]
  },
  {
   "cell_type": "code",
   "execution_count": 418,
   "id": "be67d0ab",
   "metadata": {
    "scrolled": false
   },
   "outputs": [
    {
     "name": "stdout",
     "output_type": "stream",
     "text": [
      "Model: \"sequential_55\"\n",
      "_________________________________________________________________\n",
      "Layer (type)                 Output Shape              Param #   \n",
      "=================================================================\n",
      "conv1d_14 (Conv1D)           (None, 1, 1)              4         \n",
      "_________________________________________________________________\n",
      "flatten_24 (Flatten)         (None, 1)                 0         \n",
      "_________________________________________________________________\n",
      "dense_48 (Dense)             (None, 1)                 2         \n",
      "=================================================================\n",
      "Total params: 6\n",
      "Trainable params: 6\n",
      "Non-trainable params: 0\n",
      "_________________________________________________________________\n"
     ]
    }
   ],
   "source": [
    "model = tf.keras.models.Sequential()\n",
    "model.add(tf.keras.layers.InputLayer((3,1))) \n",
    "#model.add(SimpleConv())\n",
    "model.add(tf.keras.layers.Conv1D(1,3, activation='relu', input_shape=((3,1))))\n",
    "model.add(tf.keras.layers.Flatten())\n",
    "model.add(tf.keras.layers.Dense(1,activation=\"softmax\"))\n",
    "model.summary()"
   ]
  },
  {
   "cell_type": "markdown",
   "id": "fefdf7ed",
   "metadata": {},
   "source": [
    "## Execute learning"
   ]
  },
  {
   "cell_type": "code",
   "execution_count": 419,
   "id": "f851c8a4",
   "metadata": {},
   "outputs": [
    {
     "name": "stdout",
     "output_type": "stream",
     "text": [
      "Epoch 1/10\n",
      "32/32 [==============================] - 0s 1ms/step - loss: 0.1100 - accuracy: 0.5130\n",
      "Epoch 2/10\n",
      "32/32 [==============================] - 0s 1ms/step - loss: 6.0875e-05 - accuracy: 0.5130\n",
      "Epoch 3/10\n",
      "32/32 [==============================] - 0s 1ms/step - loss: 4.5015e-05 - accuracy: 0.5130\n",
      "Epoch 4/10\n",
      "32/32 [==============================] - 0s 1ms/step - loss: 4.2961e-05 - accuracy: 0.5130\n",
      "Epoch 5/10\n",
      "32/32 [==============================] - 0s 1ms/step - loss: 4.1224e-05 - accuracy: 0.5130\n",
      "Epoch 6/10\n",
      "32/32 [==============================] - 0s 1ms/step - loss: 3.9418e-05 - accuracy: 0.5130\n",
      "Epoch 7/10\n",
      "32/32 [==============================] - 0s 1ms/step - loss: 3.7601e-05 - accuracy: 0.5130\n",
      "Epoch 8/10\n",
      "32/32 [==============================] - 0s 1ms/step - loss: 3.5811e-05 - accuracy: 0.5130\n",
      "Epoch 9/10\n",
      "32/32 [==============================] - 0s 1ms/step - loss: 3.4076e-05 - accuracy: 0.5130\n",
      "Epoch 10/10\n",
      "32/32 [==============================] - 0s 1ms/step - loss: 3.2375e-05 - accuracy: 0.5130\n"
     ]
    },
    {
     "data": {
      "text/plain": [
       "[<matplotlib.lines.Line2D at 0x7f18e8014370>]"
      ]
     },
     "execution_count": 419,
     "metadata": {},
     "output_type": "execute_result"
    },
    {
     "data": {
      "image/png": "[encoded data removed]",
      "text/plain": [
       "<Figure size 432x288 with 1 Axes>"
      ]
     },
     "metadata": {
      "needs_background": "light"
     },
     "output_type": "display_data"
    }
   ],
   "source": [
    "#loss_fn = tf.keras.losses.CategoricalCrossentropy(from_logits=False)\n",
    "#loss_fn = tf.keras.metrics.BinaryAccuracy()\n",
    "\n",
    "\n",
    "loss_fn = tf.keras.losses.BinaryCrossentropy(from_logits=False)\n",
    "#loss_fn = tf.keras.losses.SparseCategoricalCrossentropy(from_logits=True, reduction=\"auto\",name=\"sparse_categorical_crossentropy\")\n",
    "\n",
    "\n",
    "predictions = model(x_train).numpy()\n",
    "\n",
    "loss_fn(y_train, predictions).numpy()\n",
    "\n",
    "model.compile(optimizer=tf.keras.optimizers.Adam(learning_rate=1),\n",
    "              loss=loss_fn,\n",
    "              #metrics=[tf.keras.metrics.BinaryAccuracy()]\n",
    "              metrics=['accuracy']\n",
    "                #metrics= [tf.keras.losses.CategoricalCrossentropy()]\n",
    "             )\n",
    "train_history = model.fit(x=x_train, y=y_train, epochs=10,verbose=1)\n",
    "plt.title(\"Loss\")\n",
    "plt.plot(train_history.history['loss'], 'k')"
   ]
  },
  {
   "cell_type": "code",
   "execution_count": 430,
   "id": "2ba25372",
   "metadata": {},
   "outputs": [
    {
     "name": "stdout",
     "output_type": "stream",
     "text": [
      "[[1.]\n",
      " [0.]\n",
      " [0.]]\n",
      "[[1. 0. 0.]\n",
      " [0. 0. 1.]]\n"
     ]
    },
    {
     "data": {
      "text/plain": [
       "<tf.Tensor: shape=(1,), dtype=float32, numpy=array([1.], dtype=float32)>"
      ]
     },
     "execution_count": 430,
     "metadata": {},
     "output_type": "execute_result"
    }
   ],
   "source": [
    "print(x_train[3])\n",
    "print(CellularAutomata(170,[1,0,0],1))\n",
    "model(x_train)[3]"
   ]
  },
  {
   "cell_type": "code",
   "execution_count": 385,
   "id": "512bca79",
   "metadata": {},
   "outputs": [
    {
     "data": {
      "text/plain": [
       "array([[1., 0., 0.],\n",
       "       [0., 0., 1.]])"
      ]
     },
     "execution_count": 385,
     "metadata": {},
     "output_type": "execute_result"
    }
   ],
   "source": [
    "CellularAutomata(170,[1,0,0],1)"
   ]
  },
  {
   "cell_type": "code",
   "execution_count": null,
   "id": "6ecb0658",
   "metadata": {},
   "outputs": [],
   "source": []
  }
 ],
 "metadata": {
  "kernelspec": {
   "display_name": "Python 3 (ipykernel)",
   "language": "python",
   "name": "python3"
  },
  "language_info": {
   "codemirror_mode": {
    "name": "ipython",
    "version": 3
   },
   "file_extension": ".py",
   "mimetype": "text/x-python",
   "name": "python",
   "nbconvert_exporter": "python",
   "pygments_lexer": "ipython3",
   "version": "3.8.10"
  }
 },
 "nbformat": 4,
 "nbformat_minor": 5
}
