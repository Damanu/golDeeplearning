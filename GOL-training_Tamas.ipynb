{
 "cells": [
  {
   "cell_type": "markdown",
   "id": "27232da5",
   "metadata": {},
   "source": [
    "For anmiation of GOL in python https://www.geeksforgeeks.org/conways-game-life-python-implementation/"
   ]
  },
  {
   "cell_type": "markdown",
   "id": "d9ca0a76",
   "metadata": {},
   "source": [
    "# Implementing GOL"
   ]
  },
  {
   "cell_type": "code",
   "execution_count": 1,
   "id": "cd1658be",
   "metadata": {},
   "outputs": [],
   "source": [
    "import sys\n",
    "sys.path.append('/home/tomi/venv/lib/python3.8/site-packages')\n",
    "import argparse\n",
    "import numpy as np\n",
    "import matplotlib.pyplot as plt\n",
    "import matplotlib.animation as animation"
   ]
  },
  {
   "cell_type": "code",
   "execution_count": 2,
   "id": "72bed2c9",
   "metadata": {},
   "outputs": [],
   "source": [
    "# setting up the values for the grid\n",
    "ON = 255\n",
    "OFF = 0\n",
    "vals = [ON, OFF]\n",
    " \n",
    "def randomGrid(N):\n",
    " \n",
    "    \"\"\"returns a grid of NxN random values\"\"\"\n",
    "    return np.random.choice(vals, N*N, p=[0.4, 0.6]).reshape(N, N)\n",
    "\n",
    "def update(steps,grid, N):\n",
    " \n",
    "    # copy grid since we require 8 neighbors\n",
    "    # for calculation and we go line by line\n",
    "  \n",
    "    for s in range(steps):\n",
    "        newGrid = grid.copy()\n",
    "        for i in range(N):\n",
    "            for j in range(N):\n",
    "\n",
    "                # compute 8-neghbor sum\n",
    "                # using toroidal boundary conditions - x and y wrap around\n",
    "                # so that the simulaton takes place on a toroidal surface.\n",
    "                total = int((grid[i, (j-1)%N] + grid[i, (j+1)%N] +\n",
    "                             grid[(i-1)%N, j] + grid[(i+1)%N, j] +\n",
    "                             grid[(i-1)%N, (j-1)%N] + grid[(i-1)%N, (j+1)%N] +\n",
    "                             grid[(i+1)%N, (j-1)%N] + grid[(i+1)%N, (j+1)%N])/255)\n",
    "                \n",
    "                # apply Conway's rules\n",
    "                if grid[i, j]  == ON:\n",
    "                    if (total < 2) or (total > 3):\n",
    "                        newGrid[i, j] = OFF\n",
    "                else:\n",
    "                    if total == 3:\n",
    "                        newGrid[i, j] = ON\n",
    "\n",
    "        # update data\n",
    "        grid[:] = newGrid[:]\n",
    "    return(grid[:])\n",
    "\n",
    "def timeseries(numofsteps,grid,N):\n",
    "    series= []\n",
    "    series.append(grid.copy())\n",
    "    for s in range(numofsteps):\n",
    "        update(1,grid,N)\n",
    "        series.append(grid.copy())\n",
    "    return(series)\n",
    "\n",
    "\n",
    "    "
   ]
  },
  {
   "cell_type": "code",
   "execution_count": 3,
   "id": "c769245a",
   "metadata": {
    "scrolled": true
   },
   "outputs": [
    {
     "name": "stdout",
     "output_type": "stream",
     "text": [
      "[[255   0   0]\n",
      " [255   0   0]\n",
      " [255   0   0]]\n"
     ]
    },
    {
     "data": {
      "text/plain": [
       "array([[255, 255, 255],\n",
       "       [255, 255, 255],\n",
       "       [255, 255, 255]])"
      ]
     },
     "execution_count": 3,
     "metadata": {},
     "output_type": "execute_result"
    }
   ],
   "source": [
    "grid=np.array([[255,0,0],[255,0,0],[255,0,0]])\n",
    "print(grid)\n",
    "update(1,grid,3)"
   ]
  },
  {
   "cell_type": "code",
   "execution_count": 4,
   "id": "cdad3016",
   "metadata": {},
   "outputs": [],
   "source": [
    "N=30\n",
    "steps=1\n",
    "grid = randomGrid(N)\n",
    "np.save(\"./timeseriesdata\",timeseries(steps,grid,N))"
   ]
  },
  {
   "cell_type": "code",
   "execution_count": 5,
   "id": "aed4bf76",
   "metadata": {},
   "outputs": [
    {
     "name": "stdout",
     "output_type": "stream",
     "text": [
      "(100, 100)\n",
      "0\n"
     ]
    },
    {
     "data": {
      "image/png": "[encoded data removed]",
      "text/plain": [
       "<Figure size 432x288 with 1 Axes>"
      ]
     },
     "metadata": {
      "needs_background": "light"
     },
     "output_type": "display_data"
    },
    {
     "data": {
      "image/png": "[encoded data removed]",
      "text/plain": [
       "<Figure size 432x288 with 1 Axes>"
      ]
     },
     "metadata": {
      "needs_background": "light"
     },
     "output_type": "display_data"
    }
   ],
   "source": [
    "N=100\n",
    "fig, ax = plt.subplots()\n",
    "grid=randomGrid(N)\n",
    "print(grid.shape)\n",
    "#grid=np.array([[255,0,0,0,0],[0,0,255,0,0],[0,255,0,0,0],[0,0,0,0,0],[0,0,0,0,0]])\n",
    "img = ax.imshow(grid, interpolation='nearest')\n",
    "for i in range(1):\n",
    "    print(i)\n",
    "    fig, ax = plt.subplots()\n",
    "    update(1,grid,N)\n",
    "    ax.imshow(grid, interpolation='nearest')"
   ]
  },
  {
   "cell_type": "markdown",
   "id": "6e7eb5fa",
   "metadata": {},
   "source": [
    "# Implementing some learning\n",
    "See this for reference https://arxiv.org/pdf/1807.10300.pdf  \n",
    "Tensorflow intro: https://www.tensorflow.org/tutorials/quickstart/beginner  \n",
    "Loss functions: https://keras.io/api/losses/  \n",
    "2D Convolutional layer: https://keras.io/api/layers/convolution_layers/convolution2d/  \n",
    "for periodic padding see: https://stackoverflow.com/questions/39088489/tensorflow-periodic-padding  \n",
    "\n",
    "Input: 3x3 layer  \n",
    "Then either convolutional layers, or dense layers (or both).  \n",
    "Output should by the probabilities of the central cell being ON or OFF  \n",
    "i.e. last layer output of size 2 with 'softmax' activation  "
   ]
  },
  {
   "cell_type": "code",
   "execution_count": 17,
   "id": "a22c3fbc",
   "metadata": {},
   "outputs": [
    {
     "name": "stdout",
     "output_type": "stream",
     "text": [
      "[[[0.]\n",
      "  [0.]\n",
      "  [1.]]\n",
      "\n",
      " [[0.]\n",
      "  [0.]\n",
      "  [0.]]\n",
      "\n",
      " [[1.]\n",
      "  [1.]\n",
      "  [0.]]]\n",
      "[1. 0.]\n"
     ]
    }
   ],
   "source": [
    "#generating a training and test dataset\n",
    "import tensorflow as tf\n",
    "\n",
    "tf.compat.v1.disable_eager_execution()\n",
    "\n",
    "#defining the learning model\n",
    "numofgrids=50000\n",
    "dimx=5\n",
    "dimy=5\n",
    "t=1\n",
    "middle=(np.floor(dimx/2),np.floor(dimy/2))\n",
    "(x_train,y_train)=([],[])\n",
    "for i in range(numofgrids):\n",
    "    grid=randomGrid(dimx)\n",
    "    x_train.append(grid[int(np.floor(dimx/2)-1):int(np.floor(dimx/2)+2),int(np.floor(dimy/2)-1):int(np.floor(dimy/2)+2)].copy())\n",
    "    grid_=update(t,grid,dimy).copy()\n",
    "    y_train.append([grid_[int(np.floor(dimx/2)),int(np.floor(dimx/2))].copy(), 255-grid_[int(np.floor(dimx/2)),int(np.floor(dimx/2))].copy()])\n",
    "\n",
    "x_train =np.array(x_train).reshape(numofgrids,3,3,1)/255\n",
    "y_train =np.array(y_train).reshape(numofgrids,2)/255\n",
    "\n",
    "print(x_train[0])\n",
    "print(y_train[0])"
   ]
  },
  {
   "cell_type": "code",
   "execution_count": 18,
   "id": "5a328add",
   "metadata": {},
   "outputs": [
    {
     "data": {
      "text/plain": [
       "array([0.36224, 0.63776])"
      ]
     },
     "execution_count": 18,
     "metadata": {},
     "output_type": "execute_result"
    }
   ],
   "source": [
    "np.sum(y_train,axis=0)/np.sum(y_train)"
   ]
  },
  {
   "cell_type": "code",
   "execution_count": 19,
   "id": "b4713473",
   "metadata": {},
   "outputs": [
    {
     "name": "stdout",
     "output_type": "stream",
     "text": [
      "(36224, 3, 3, 1)\n",
      "(36224, 2)\n"
     ]
    }
   ],
   "source": [
    "# Making a balanced dataset (50/50 ON/OFF)\n",
    "no_of_offs = int(np.sum(y_train,axis=0)[0])\n",
    "on_indices = np.where(y_train[:,1]==1)[0]\n",
    "off_indices = np.where(y_train[:,1]==0)[0]\n",
    "on_indices_cut = on_indices[:no_of_offs]\n",
    "\n",
    "x_train = np.concatenate((x_train[on_indices_cut,:], x_train[off_indices,:]))\n",
    "y_train = np.concatenate((y_train[on_indices_cut,:], y_train[off_indices,:]))\n",
    "\n",
    "p = np.random.permutation(x_train.shape[0])\n",
    "x_train = x_train[p,:]\n",
    "y_train = y_train[p,:]\n",
    "\n",
    "print(x_train.shape)\n",
    "print(y_train.shape)"
   ]
  },
  {
   "cell_type": "code",
   "execution_count": 20,
   "id": "a4494791",
   "metadata": {},
   "outputs": [
    {
     "name": "stdout",
     "output_type": "stream",
     "text": [
      "(36224, 9)\n",
      "(36224, 1)\n",
      "(36224, 10)\n"
     ]
    }
   ],
   "source": [
    "# Data preprocessing: adding the sum of neighbors as an extra feature, and then doing standard scaling (mean 0 and std dev 1 for each feature)\n",
    "\n",
    "from sklearn import preprocessing\n",
    "\n",
    "#ratios = np.sum(y_train,axis=0)/np.sum(y_train)\n",
    "\n",
    "#class_weight = {0: ratios[1], 1: ratios[0]}\n",
    "\n",
    "x_train = x_train.reshape(x_train.shape[0],-1)\n",
    "print(x_train.shape)\n",
    "sums = np.sum(x_train,axis=1)\n",
    "sums = sums-y_train[:,0]\n",
    "sums = np.expand_dims(sums, axis=-1)\n",
    "print(sums.shape)\n",
    "x_train = np.concatenate((x_train,sums), axis=-1)\n",
    "print(x_train.shape)\n",
    "\n",
    "#scaler = preprocessing.StandardScaler().fit(x_train)\n",
    "#x_scaled = scaler.transform(x_train)\n",
    "x_scaled=  x_train"
   ]
  },
  {
   "cell_type": "code",
   "execution_count": 21,
   "id": "06aba8f1",
   "metadata": {},
   "outputs": [
    {
     "name": "stdout",
     "output_type": "stream",
     "text": [
      "Train on 36224 samples\n",
      "Epoch 1/10\n",
      "36224/36224 [==============================] - 1s 40us/sample - loss: 0.1199 - binary_accuracy: 0.9500\n",
      "Epoch 2/10\n",
      "36224/36224 [==============================] - 1s 40us/sample - loss: 0.0012 - binary_accuracy: 1.0000\n",
      "Epoch 3/10\n",
      "36224/36224 [==============================] - 1s 38us/sample - loss: 4.8478e-04 - binary_accuracy: 1.0000\n",
      "Epoch 4/10\n",
      " 5376/36224 [===>..........................] - ETA: 1s - loss: 3.5002e-04 - binary_accuracy: 1.0000"
     ]
    },
    {
     "ename": "KeyboardInterrupt",
     "evalue": "",
     "output_type": "error",
     "traceback": [
      "\u001b[0;31m---------------------------------------------------------------------------\u001b[0m",
      "\u001b[0;31mKeyboardInterrupt\u001b[0m                         Traceback (most recent call last)",
      "\u001b[0;32m<ipython-input-21-88546ff865d2>\u001b[0m in \u001b[0;36m<module>\u001b[0;34m\u001b[0m\n\u001b[1;32m     39\u001b[0m               \u001b[0mloss\u001b[0m\u001b[0;34m=\u001b[0m\u001b[0mloss_fn\u001b[0m\u001b[0;34m,\u001b[0m\u001b[0;34m\u001b[0m\u001b[0;34m\u001b[0m\u001b[0m\n\u001b[1;32m     40\u001b[0m               metrics=[tf.keras.metrics.BinaryAccuracy()])\n\u001b[0;32m---> 41\u001b[0;31m \u001b[0mmodelA\u001b[0m\u001b[0;34m.\u001b[0m\u001b[0mfit\u001b[0m\u001b[0;34m(\u001b[0m\u001b[0mx_scaled\u001b[0m\u001b[0;34m,\u001b[0m \u001b[0my_train\u001b[0m\u001b[0;34m,\u001b[0m \u001b[0mepochs\u001b[0m\u001b[0;34m=\u001b[0m\u001b[0;36m10\u001b[0m\u001b[0;34m)\u001b[0m\u001b[0;31m#, class_weight=class_weight)\u001b[0m\u001b[0;34m\u001b[0m\u001b[0;34m\u001b[0m\u001b[0m\n\u001b[0m\u001b[1;32m     42\u001b[0m \u001b[0mpredictions\u001b[0m \u001b[0;34m=\u001b[0m \u001b[0mmodelA\u001b[0m\u001b[0;34m(\u001b[0m\u001b[0mx_scaled\u001b[0m\u001b[0;34m)\u001b[0m\u001b[0;31m#.numpy()\u001b[0m\u001b[0;34m\u001b[0m\u001b[0;34m\u001b[0m\u001b[0m\n\u001b[1;32m     43\u001b[0m \u001b[0mpredictions\u001b[0m\u001b[0;34m[\u001b[0m\u001b[0;36m0\u001b[0m\u001b[0;34m]\u001b[0m\u001b[0;34m\u001b[0m\u001b[0;34m\u001b[0m\u001b[0m\n",
      "\u001b[0;32m~/venv/lib/python3.8/site-packages/keras/engine/training_v1.py\u001b[0m in \u001b[0;36mfit\u001b[0;34m(self, x, y, batch_size, epochs, verbose, callbacks, validation_split, validation_data, shuffle, class_weight, sample_weight, initial_epoch, steps_per_epoch, validation_steps, validation_freq, max_queue_size, workers, use_multiprocessing, **kwargs)\u001b[0m\n\u001b[1;32m    775\u001b[0m \u001b[0;34m\u001b[0m\u001b[0m\n\u001b[1;32m    776\u001b[0m     \u001b[0mfunc\u001b[0m \u001b[0;34m=\u001b[0m \u001b[0mself\u001b[0m\u001b[0;34m.\u001b[0m\u001b[0m_select_training_loop\u001b[0m\u001b[0;34m(\u001b[0m\u001b[0mx\u001b[0m\u001b[0;34m)\u001b[0m\u001b[0;34m\u001b[0m\u001b[0;34m\u001b[0m\u001b[0m\n\u001b[0;32m--> 777\u001b[0;31m     return func.fit(\n\u001b[0m\u001b[1;32m    778\u001b[0m         \u001b[0mself\u001b[0m\u001b[0;34m,\u001b[0m\u001b[0;34m\u001b[0m\u001b[0;34m\u001b[0m\u001b[0m\n\u001b[1;32m    779\u001b[0m         \u001b[0mx\u001b[0m\u001b[0;34m=\u001b[0m\u001b[0mx\u001b[0m\u001b[0;34m,\u001b[0m\u001b[0;34m\u001b[0m\u001b[0;34m\u001b[0m\u001b[0m\n",
      "\u001b[0;32m~/venv/lib/python3.8/site-packages/keras/engine/training_arrays_v1.py\u001b[0m in \u001b[0;36mfit\u001b[0;34m(self, model, x, y, batch_size, epochs, verbose, callbacks, validation_split, validation_data, shuffle, class_weight, sample_weight, initial_epoch, steps_per_epoch, validation_steps, validation_freq, **kwargs)\u001b[0m\n\u001b[1;32m    638\u001b[0m       \u001b[0mval_x\u001b[0m\u001b[0;34m,\u001b[0m \u001b[0mval_y\u001b[0m\u001b[0;34m,\u001b[0m \u001b[0mval_sample_weights\u001b[0m \u001b[0;34m=\u001b[0m \u001b[0;32mNone\u001b[0m\u001b[0;34m,\u001b[0m \u001b[0;32mNone\u001b[0m\u001b[0;34m,\u001b[0m \u001b[0;32mNone\u001b[0m\u001b[0;34m\u001b[0m\u001b[0;34m\u001b[0m\u001b[0m\n\u001b[1;32m    639\u001b[0m \u001b[0;34m\u001b[0m\u001b[0m\n\u001b[0;32m--> 640\u001b[0;31m     return fit_loop(\n\u001b[0m\u001b[1;32m    641\u001b[0m         \u001b[0mmodel\u001b[0m\u001b[0;34m,\u001b[0m\u001b[0;34m\u001b[0m\u001b[0;34m\u001b[0m\u001b[0m\n\u001b[1;32m    642\u001b[0m         \u001b[0minputs\u001b[0m\u001b[0;34m=\u001b[0m\u001b[0mx\u001b[0m\u001b[0;34m,\u001b[0m\u001b[0;34m\u001b[0m\u001b[0;34m\u001b[0m\u001b[0m\n",
      "\u001b[0;32m~/venv/lib/python3.8/site-packages/keras/engine/training_arrays_v1.py\u001b[0m in \u001b[0;36mmodel_iteration\u001b[0;34m(model, inputs, targets, sample_weights, batch_size, epochs, verbose, callbacks, val_inputs, val_targets, val_sample_weights, shuffle, initial_epoch, steps_per_epoch, validation_steps, validation_freq, mode, validation_in_fit, prepared_feed_values_from_dataset, steps_name, **kwargs)\u001b[0m\n\u001b[1;32m    374\u001b[0m \u001b[0;34m\u001b[0m\u001b[0m\n\u001b[1;32m    375\u001b[0m         \u001b[0;31m# Get outputs.\u001b[0m\u001b[0;34m\u001b[0m\u001b[0;34m\u001b[0m\u001b[0;34m\u001b[0m\u001b[0m\n\u001b[0;32m--> 376\u001b[0;31m         \u001b[0mbatch_outs\u001b[0m \u001b[0;34m=\u001b[0m \u001b[0mf\u001b[0m\u001b[0;34m(\u001b[0m\u001b[0mins_batch\u001b[0m\u001b[0;34m)\u001b[0m\u001b[0;34m\u001b[0m\u001b[0;34m\u001b[0m\u001b[0m\n\u001b[0m\u001b[1;32m    377\u001b[0m         \u001b[0;32mif\u001b[0m \u001b[0;32mnot\u001b[0m \u001b[0misinstance\u001b[0m\u001b[0;34m(\u001b[0m\u001b[0mbatch_outs\u001b[0m\u001b[0;34m,\u001b[0m \u001b[0mlist\u001b[0m\u001b[0;34m)\u001b[0m\u001b[0;34m:\u001b[0m\u001b[0;34m\u001b[0m\u001b[0;34m\u001b[0m\u001b[0m\n\u001b[1;32m    378\u001b[0m           \u001b[0mbatch_outs\u001b[0m \u001b[0;34m=\u001b[0m \u001b[0;34m[\u001b[0m\u001b[0mbatch_outs\u001b[0m\u001b[0;34m]\u001b[0m\u001b[0;34m\u001b[0m\u001b[0;34m\u001b[0m\u001b[0m\n",
      "\u001b[0;32m~/venv/lib/python3.8/site-packages/keras/backend.py\u001b[0m in \u001b[0;36m__call__\u001b[0;34m(self, inputs)\u001b[0m\n\u001b[1;32m   4029\u001b[0m       \u001b[0mself\u001b[0m\u001b[0;34m.\u001b[0m\u001b[0m_make_callable\u001b[0m\u001b[0;34m(\u001b[0m\u001b[0mfeed_arrays\u001b[0m\u001b[0;34m,\u001b[0m \u001b[0mfeed_symbols\u001b[0m\u001b[0;34m,\u001b[0m \u001b[0msymbol_vals\u001b[0m\u001b[0;34m,\u001b[0m \u001b[0msession\u001b[0m\u001b[0;34m)\u001b[0m\u001b[0;34m\u001b[0m\u001b[0;34m\u001b[0m\u001b[0m\n\u001b[1;32m   4030\u001b[0m \u001b[0;34m\u001b[0m\u001b[0m\n\u001b[0;32m-> 4031\u001b[0;31m     fetched = self._callable_fn(*array_vals,\n\u001b[0m\u001b[1;32m   4032\u001b[0m                                 run_metadata=self.run_metadata)\n\u001b[1;32m   4033\u001b[0m     \u001b[0mself\u001b[0m\u001b[0;34m.\u001b[0m\u001b[0m_call_fetch_callbacks\u001b[0m\u001b[0;34m(\u001b[0m\u001b[0mfetched\u001b[0m\u001b[0;34m[\u001b[0m\u001b[0;34m-\u001b[0m\u001b[0mlen\u001b[0m\u001b[0;34m(\u001b[0m\u001b[0mself\u001b[0m\u001b[0;34m.\u001b[0m\u001b[0m_fetches\u001b[0m\u001b[0;34m)\u001b[0m\u001b[0;34m:\u001b[0m\u001b[0;34m]\u001b[0m\u001b[0;34m)\u001b[0m\u001b[0;34m\u001b[0m\u001b[0;34m\u001b[0m\u001b[0m\n",
      "\u001b[0;32m~/venv/lib/python3.8/site-packages/tensorflow/python/client/session.py\u001b[0m in \u001b[0;36m__call__\u001b[0;34m(self, *args, **kwargs)\u001b[0m\n\u001b[1;32m   1476\u001b[0m       \u001b[0;32mtry\u001b[0m\u001b[0;34m:\u001b[0m\u001b[0;34m\u001b[0m\u001b[0;34m\u001b[0m\u001b[0m\n\u001b[1;32m   1477\u001b[0m         \u001b[0mrun_metadata_ptr\u001b[0m \u001b[0;34m=\u001b[0m \u001b[0mtf_session\u001b[0m\u001b[0;34m.\u001b[0m\u001b[0mTF_NewBuffer\u001b[0m\u001b[0;34m(\u001b[0m\u001b[0;34m)\u001b[0m \u001b[0;32mif\u001b[0m \u001b[0mrun_metadata\u001b[0m \u001b[0;32melse\u001b[0m \u001b[0;32mNone\u001b[0m\u001b[0;34m\u001b[0m\u001b[0;34m\u001b[0m\u001b[0m\n\u001b[0;32m-> 1478\u001b[0;31m         ret = tf_session.TF_SessionRunCallable(self._session._session,\n\u001b[0m\u001b[1;32m   1479\u001b[0m                                                \u001b[0mself\u001b[0m\u001b[0;34m.\u001b[0m\u001b[0m_handle\u001b[0m\u001b[0;34m,\u001b[0m \u001b[0margs\u001b[0m\u001b[0;34m,\u001b[0m\u001b[0;34m\u001b[0m\u001b[0;34m\u001b[0m\u001b[0m\n\u001b[1;32m   1480\u001b[0m                                                run_metadata_ptr)\n",
      "\u001b[0;31mKeyboardInterrupt\u001b[0m: "
     ]
    }
   ],
   "source": [
    "\"\"\"\n",
    "tf.keras.layers.Conv2D(9,3,\n",
    "        input_shape=(3,3,1),\n",
    "        strides=(1, 1),\n",
    "        padding=\"valid\",\n",
    "        data_format=None,\n",
    "        dilation_rate=(1, 1),\n",
    "        groups=1,\n",
    "        activation=None,\n",
    "        use_bias=True,\n",
    "        kernel_initializer=\"glorot_uniform\",\n",
    "        bias_initializer=\"zeros\",\n",
    "        kernel_regularizer=None,\n",
    "        bias_regularizer=None,\n",
    "        activity_regularizer=None,\n",
    "        kernel_constraint=None,\n",
    "        bias_constraint=None),\n",
    "tf.keras.layers.Flatten(),\n",
    "\"\"\"\n",
    "rate = 0.0 # a rate of 0.1-0.2 actually helps a few percent.\n",
    "modelA = tf.keras.models.Sequential([\n",
    "    tf.keras.layers.Dropout(rate),\n",
    "    tf.keras.layers.Dense(20),\n",
    "    tf.keras.layers.Dropout(rate),\n",
    "    tf.keras.layers.Dense(20),\n",
    "    tf.keras.layers.Dropout(rate),\n",
    "    tf.keras.layers.Dense(20),\n",
    "    tf.keras.layers.Dropout(rate),\n",
    "    tf.keras.layers.Dense(20),\n",
    "    tf.keras.layers.Dropout(rate),\n",
    "    tf.keras.layers.Dense(20),\n",
    "    tf.keras.layers.Dense(2,activation=\"softmax\")\n",
    "])\n",
    "\n",
    "\n",
    "#print(tf.nn.softmax(predictions).numpy())\n",
    "loss_fn = tf.keras.losses.CategoricalCrossentropy(from_logits=False)\n",
    "modelA.compile(optimizer='sgd',\n",
    "              loss=loss_fn,\n",
    "              metrics=[tf.keras.metrics.BinaryAccuracy()])\n",
    "modelA.fit(x_scaled, y_train, epochs=10)#, class_weight=class_weight)\n",
    "predictions = modelA(x_scaled)#.numpy()\n",
    "predictions[0]"
   ]
  },
  {
   "cell_type": "code",
   "execution_count": 15,
   "id": "7fc2cc47",
   "metadata": {},
   "outputs": [
    {
     "name": "stderr",
     "output_type": "stream",
     "text": [
      "/home/tomi/venv/lib/python3.8/site-packages/keras/engine/training.py:2470: UserWarning: `Model.state_updates` will be removed in a future version. This property should not be used in TensorFlow 2.0, as `updates` are applied automatically.\n",
      "  warnings.warn('`Model.state_updates` will be removed in a future version. '\n"
     ]
    }
   ],
   "source": [
    "preds = modelA.predict(x_scaled)\n",
    "preds = np.round(preds)"
   ]
  },
  {
   "cell_type": "code",
   "execution_count": 16,
   "id": "afe105c5",
   "metadata": {},
   "outputs": [
    {
     "name": "stdout",
     "output_type": "stream",
     "text": [
      "17130\n",
      "Input grid:\n",
      "[[1. 0. 0.]\n",
      " [1. 1. 0.]\n",
      " [0. 0. 1.]]\n",
      "Updated grid based on Conway rule:\n",
      "[[1. 0. 0.]\n",
      " [1. 1. 0.]\n",
      " [0. 0. 1.]]\n",
      "\n",
      "Middle point From->To transition\n",
      "Ground truth, form rule:         [1.0, 1.0]\n",
      "Ground truth, form training set: [1.0, 1.0]\n",
      "Prediction of model:             [1.0, 1.0]\n"
     ]
    }
   ],
   "source": [
    "# Check some random elements to see what's up\n",
    "i=np.random.choice(x_scaled.shape[0])\n",
    "print(i)\n",
    "true_original = x_train[i,0:9].reshape(3,3)\n",
    "print(\"Input grid:\")\n",
    "print(true_original)\n",
    "true_updated = update(1,true_original*255,3)/255\n",
    "print(\"Updated grid based on Conway rule:\")\n",
    "print(true_updated)\n",
    "print(\"\\nMiddle point From->To transition\")\n",
    "print(\"Ground truth, form rule:        \",[true_original[1,1],true_updated[1,1]])\n",
    "print(\"Ground truth, form training set:\",[true_original[1,1],y_train[i][0]])\n",
    "print(\"Prediction of model:            \",[true_original[1,1],preds[i][0]])"
   ]
  },
  {
   "cell_type": "code",
   "execution_count": 6,
   "id": "dfa35b56",
   "metadata": {},
   "outputs": [
    {
     "name": "stdout",
     "output_type": "stream",
     "text": [
      "[[1 0 0]\n",
      " [0 0 0]\n",
      " [1 0 1]]\n"
     ]
    },
    {
     "data": {
      "text/plain": [
       "array([[0.6196021 , 0.38039795]], dtype=float32)"
      ]
     },
     "execution_count": 6,
     "metadata": {},
     "output_type": "execute_result"
    }
   ],
   "source": [
    "grid=np.array([[1,0,0],[0,0,0],[1,0,1]])\n",
    "print(grid)\n",
    "modelA(grid.reshape(1,3,3,1)).numpy()\n",
    "\n"
   ]
  },
  {
   "cell_type": "code",
   "execution_count": 7,
   "id": "26c90e48",
   "metadata": {},
   "outputs": [
    {
     "data": {
      "text/plain": [
       "3.0"
      ]
     },
     "execution_count": 7,
     "metadata": {},
     "output_type": "execute_result"
    }
   ],
   "source": [
    "np.floor(3.4)"
   ]
  },
  {
   "cell_type": "code",
   "execution_count": 8,
   "id": "40d8456e",
   "metadata": {},
   "outputs": [
    {
     "data": {
      "image/png": "[encoded data removed]",
      "text/plain": [
       "<Figure size 432x288 with 1 Axes>"
      ]
     },
     "metadata": {
      "needs_background": "light"
     },
     "output_type": "display_data"
    },
    {
     "data": {
      "image/png": "[encoded data removed]",
      "text/plain": [
       "<Figure size 432x288 with 1 Axes>"
      ]
     },
     "metadata": {
      "needs_background": "light"
     },
     "output_type": "display_data"
    }
   ],
   "source": [
    "\n",
    "N=3\n",
    "time=1\n",
    "grid=randomGrid(N)\n",
    "\n",
    "gridev=timeseries(time,grid,N)\n",
    "for t in range(time+1):\n",
    "    fig, ax = plt.subplots()\n",
    "    fig=ax.imshow(gridev[t], interpolation='nearest')"
   ]
  },
  {
   "cell_type": "code",
   "execution_count": 9,
   "id": "79a34ace",
   "metadata": {},
   "outputs": [
    {
     "name": "stdout",
     "output_type": "stream",
     "text": [
      "[[255   0   0]\n",
      " [  0 255   0]\n",
      " [255   0   0]]\n",
      "[[255 255 255]\n",
      " [255 255 255]\n",
      " [255 255 255]]\n"
     ]
    },
    {
     "data": {
      "image/png": "[encoded data removed]",
      "text/plain": [
       "<Figure size 432x288 with 1 Axes>"
      ]
     },
     "metadata": {
      "needs_background": "light"
     },
     "output_type": "display_data"
    },
    {
     "data": {
      "image/png": "[encoded data removed]",
      "text/plain": [
       "<Figure size 432x288 with 1 Axes>"
      ]
     },
     "metadata": {
      "needs_background": "light"
     },
     "output_type": "display_data"
    }
   ],
   "source": [
    "\n",
    "N=3\n",
    "time=1\n",
    "grid=np.array([[255,0,0],[0,255,0],[255,0,0]])\n",
    "#grid=np.array([[0,0,0,0,0],[0,255,0,0,0],[0,0,255,0,0],[0,255,0,0,0],[0,0,0,0,0]])\n",
    "gridev=timeseries(time,grid,N)\n",
    "\n",
    "for t in range(time+1):\n",
    "    print(gridev[t])\n",
    "    fig, ax = plt.subplots()\n",
    "    fig=ax.imshow(gridev[t], interpolation='none')"
   ]
  },
  {
   "cell_type": "code",
   "execution_count": 10,
   "id": "34d43d7e",
   "metadata": {},
   "outputs": [
    {
     "data": {
      "text/plain": [
       "array([[0., 0., 0.],\n",
       "       [0., 0., 0.],\n",
       "       [0., 0., 0.]])"
      ]
     },
     "execution_count": 10,
     "metadata": {},
     "output_type": "execute_result"
    }
   ],
   "source": [
    "np.zeros((5,5))[int(np.floor(5/2)-1):int(np.floor(5/2)+2),int(np.floor(5/2)-1):int(np.floor(5/2)+2)]"
   ]
  },
  {
   "cell_type": "code",
   "execution_count": 11,
   "id": "8060477b",
   "metadata": {},
   "outputs": [
    {
     "data": {
      "text/plain": [
       "(1, 4)"
      ]
     },
     "execution_count": 11,
     "metadata": {},
     "output_type": "execute_result"
    }
   ],
   "source": [
    "int(np.floor(5/2)-1),int(np.floor(5/2)+2)"
   ]
  },
  {
   "cell_type": "code",
   "execution_count": 12,
   "id": "0934c130",
   "metadata": {},
   "outputs": [
    {
     "data": {
      "text/plain": [
       "array([[0., 0., 0.],\n",
       "       [0., 0., 0.],\n",
       "       [0., 0., 0.]])"
      ]
     },
     "execution_count": 12,
     "metadata": {},
     "output_type": "execute_result"
    }
   ],
   "source": [
    "np.zeros((5,5))[1:4,1:4]"
   ]
  },
  {
   "cell_type": "code",
   "execution_count": 13,
   "id": "99ca5dd6",
   "metadata": {
    "scrolled": true
   },
   "outputs": [
    {
     "name": "stdout",
     "output_type": "stream",
     "text": [
      "[[  0   0 255   0   0]\n",
      " [  0   0   0   0   0]\n",
      " [  0   0   0   0   0]\n",
      " [  0 255   0   0   0]\n",
      " [255   0   0   0 255]]\n",
      "[[  0   0   0   0   0]\n",
      " [  0   0   0   0   0]\n",
      " [  0   0   0   0   0]\n",
      " [255   0   0   0   0]\n",
      " [255 255   0   0   0]]\n",
      "[array([[  0,   0,   0],\n",
      "       [  0,   0,   0],\n",
      "       [255,   0,   0]])]\n",
      "[0]\n"
     ]
    }
   ],
   "source": [
    "dimx=5\n",
    "dimy=5\n",
    "t=1\n",
    "(x_train,y_train)=([],[])\n",
    "grid=randomGrid(dimx)\n",
    "print(grid)\n",
    "x_train.append(grid[int(np.floor(dimx/2)-1):int(np.floor(dimx/2)+2),int(np.floor(dimy/2)-1):int(np.floor(dimy/2)+2)].copy())\n",
    "grid_=update(t,grid,dimy).copy()\n",
    "print(grid_)\n",
    "y_train.append(grid_[int(np.floor(dimx/2)),int(np.floor(dimx/2))].copy())\n",
    "print(x_train)\n",
    "print(y_train)"
   ]
  },
  {
   "cell_type": "code",
   "execution_count": null,
   "id": "505b4db9",
   "metadata": {},
   "outputs": [],
   "source": []
  },
  {
   "cell_type": "code",
   "execution_count": null,
   "id": "44fd6be0",
   "metadata": {},
   "outputs": [],
   "source": []
  },
  {
   "cell_type": "code",
   "execution_count": null,
   "id": "424e73b1",
   "metadata": {},
   "outputs": [],
   "source": []
  },
  {
   "cell_type": "code",
   "execution_count": null,
   "id": "49fdd29c",
   "metadata": {},
   "outputs": [],
   "source": []
  }
 ],
 "metadata": {
  "kernelspec": {
   "display_name": "Python 3 (ipykernel)",
   "language": "python",
   "name": "python3"
  },
  "language_info": {
   "codemirror_mode": {
    "name": "ipython",
    "version": 3
   },
   "file_extension": ".py",
   "mimetype": "text/x-python",
   "name": "python",
   "nbconvert_exporter": "python",
   "pygments_lexer": "ipython3",
   "version": "3.8.10"
  }
 },
 "nbformat": 4,
 "nbformat_minor": 5
}
