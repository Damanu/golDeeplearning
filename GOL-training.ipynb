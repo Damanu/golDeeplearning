{
 "cells": [
  {
   "cell_type": "markdown",
   "id": "7aae7b57",
   "metadata": {},
   "source": [
    "For anmiation of GOL in python https://www.geeksforgeeks.org/conways-game-life-python-implementation/"
   ]
  },
  {
   "cell_type": "markdown",
   "id": "e04a45dd",
   "metadata": {},
   "source": [
    "# Implementing GOL"
   ]
  },
  {
   "cell_type": "code",
   "execution_count": 12,
   "id": "b34f40ba",
   "metadata": {},
   "outputs": [],
   "source": [
    "import argparse\n",
    "import numpy as np\n",
    "import matplotlib.pyplot as plt\n",
    "import matplotlib.animation as animation\n",
    "\n",
    "# setting up the values for the grid\n",
    "ON = 255\n",
    "OFF = 0\n",
    "vals = [ON, OFF]\n",
    " \n",
    "def randomGrid(N):\n",
    " \n",
    "    \"\"\"returns a grid of NxN random values\"\"\"\n",
    "    return np.random.choice(vals, N*N, p=[0.2, 0.8]).reshape(N, N)\n",
    "\n",
    "def update(steps,grid, N):\n",
    " \n",
    "    # copy grid since we require 8 neighbors\n",
    "    # for calculation and we go line by line\n",
    "  \n",
    "    for s in range(steps):\n",
    "        newGrid = grid.copy()\n",
    "        for i in range(N):\n",
    "            for j in range(N):\n",
    "\n",
    "                # compute 8-neghbor sum\n",
    "                # using toroidal boundary conditions - x and y wrap around\n",
    "                # so that the simulaton takes place on a toroidal surface.\n",
    "                total = int((grid[i, (j-1)%N] + grid[i, (j+1)%N] +\n",
    "                             grid[(i-1)%N, j] + grid[(i+1)%N, j] +\n",
    "                             grid[(i-1)%N, (j-1)%N] + grid[(i-1)%N, (j+1)%N] +\n",
    "                             grid[(i+1)%N, (j-1)%N] + grid[(i+1)%N, (j+1)%N])/255)\n",
    "\n",
    "                # apply Conway's rules\n",
    "                if grid[i, j]  == ON:\n",
    "                    if (total < 2) or (total > 3):\n",
    "                        newGrid[i, j] = OFF\n",
    "                else:\n",
    "                    if total == 3:\n",
    "                        newGrid[i, j] = ON\n",
    "\n",
    "        # update data\n",
    "        grid[:] = newGrid[:]\n",
    "    return(grid[:])\n",
    "\n",
    "def timeseries(numofsteps,grid,N):\n",
    "    series=[]\n",
    "    series.append(grid.copy())\n",
    "    for s in range(numofsteps):\n",
    "        update(1,grid,N)\n",
    "        series.append(grid.copy())\n",
    "    return(series)\n",
    "\n",
    "def genDataset(N,steps,):\n",
    "    "
   ]
  },
  {
   "cell_type": "code",
   "execution_count": 11,
   "id": "22662939",
   "metadata": {},
   "outputs": [],
   "source": [
    "N=3\n",
    "steps=10\n",
    "grid = randomGrid(N)\n",
    "np.save(\"./timeseriesdata\",timeseries(steps,grid,N))"
   ]
  },
  {
   "cell_type": "code",
   "execution_count": 13,
   "id": "8c296cef",
   "metadata": {},
   "outputs": [
    {
     "data": {
      "image/png": "[encoded data removed]",
      "text/plain": [
       "<Figure size 432x288 with 1 Axes>"
      ]
     },
     "metadata": {
      "needs_background": "light"
     },
     "output_type": "display_data"
    },
    {
     "data": {
      "image/png": "[encoded data removed]",
      "text/plain": [
       "<Figure size 432x288 with 1 Axes>"
      ]
     },
     "metadata": {
      "needs_background": "light"
     },
     "output_type": "display_data"
    }
   ],
   "source": [
    "N=100\n",
    "fig, ax = plt.subplots()\n",
    "grid=randomGrid(N)\n",
    "#grid=np.array([[255,0,0,0,0],[0,0,255,0,0],[0,255,0,0,0],[0,0,0,0,0],[0,0,0,0,0]])\n",
    "img = ax.imshow(grid, interpolation='nearest')\n",
    "for i in range(1):\n",
    "    fig, ax = plt.subplots()\n",
    "    update(10,grid,N)\n",
    "    ax.imshow(grid, interpolation='nearest')"
   ]
  },
  {
   "cell_type": "markdown",
   "id": "3f776823",
   "metadata": {},
   "source": [
    "# Implementing some learning\n",
    "See this for reference https://arxiv.org/pdf/1807.10300.pdf  \n",
    "Tensorflow intro: https://www.tensorflow.org/tutorials/quickstart/beginner  \n",
    "Loss functions: https://keras.io/api/losses/  \n",
    "2D Convolutional layer: https://keras.io/api/layers/convolution_layers/convolution2d/  \n",
    "for periodic padding see: https://stackoverflow.com/questions/39088489/tensorflow-periodic-padding  \n",
    "\n",
    "Input: 3x3 layer  \n",
    "Then either convolutional layers, or dense layers (or both).  \n",
    "Output should by the probabilities of the central cell being ON or OFF  \n",
    "i.e. last layer output of size 2 with 'softmax' activation  "
   ]
  },
  {
   "cell_type": "code",
   "execution_count": null,
   "id": "1586ce2f",
   "metadata": {},
   "outputs": [],
   "source": [
    "#generating a training and test dataset\n",
    "import tensorflow as tf\n",
    "\n",
    "#defining the learning model\n",
    "model = tf.keras.models.Sequential([\n",
    "    tf.keras.layers.Conv2D(\n",
    "    filters,\n",
    "    kernel_size,\n",
    "    strides=(1, 1),\n",
    "    padding=\"valid\",\n",
    "    data_format=None,\n",
    "    dilation_rate=(1, 1),\n",
    "    groups=1,\n",
    "    activation=None,\n",
    "    use_bias=True,\n",
    "    kernel_initializer=\"glorot_uniform\",\n",
    "    bias_initializer=\"zeros\",\n",
    "    kernel_regularizer=None,\n",
    "    bias_regularizer=None,\n",
    "    activity_regularizer=None,\n",
    "    kernel_constraint=None,\n",
    "    bias_constraint=None,\n",
    "    **kwargs)\n",
    "  tf.keras.layers.Dense(2)\n",
    "])\n"
   ]
  }
 ],
 "metadata": {
  "kernelspec": {
   "display_name": "Python 3 (ipykernel)",
   "language": "python",
   "name": "python3"
  },
  "language_info": {
   "codemirror_mode": {
    "name": "ipython",
    "version": 3
   },
   "file_extension": ".py",
   "mimetype": "text/x-python",
   "name": "python",
   "nbconvert_exporter": "python",
   "pygments_lexer": "ipython3",
   "version": "3.8.10"
  }
 },
 "nbformat": 4,
 "nbformat_minor": 5
}
