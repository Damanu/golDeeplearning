{
 "cells": [
  {
   "cell_type": "markdown",
   "id": "7aae7b57",
   "metadata": {},
   "source": [
    "For anmiation of GOL in python https://www.geeksforgeeks.org/conways-game-life-python-implementation/"
   ]
  },
  {
   "cell_type": "markdown",
   "id": "e04a45dd",
   "metadata": {},
   "source": [
    "# Implementing GOL"
   ]
  },
  {
   "cell_type": "code",
   "execution_count": 2,
   "id": "b34f40ba",
   "metadata": {},
   "outputs": [],
   "source": [
    "import argparse\n",
    "import numpy as np\n",
    "import matplotlib.pyplot as plt\n",
    "import matplotlib.animation as animation\n",
    "\n",
    "# setting up the values for the grid\n",
    "ON = 255\n",
    "OFF = 0\n",
    "vals = [ON, OFF]\n",
    " \n",
    "def randomGrid(N):\n",
    " \n",
    "    \"\"\"returns a grid of NxN random values\"\"\"\n",
    "    return np.random.choice(vals, N*N, p=[0.2, 0.8]).reshape(N, N)\n",
    "\n",
    "def update(steps,grid, N):\n",
    " \n",
    "    # copy grid since we require 8 neighbors\n",
    "    # for calculation and we go line by line\n",
    "  \n",
    "    for s in range(steps):\n",
    "        newGrid = grid.copy()\n",
    "        for i in range(N):\n",
    "            for j in range(N):\n",
    "\n",
    "                # compute 8-neghbor sum\n",
    "                # using toroidal boundary conditions - x and y wrap around\n",
    "                # so that the simulaton takes place on a toroidal surface.\n",
    "                total = int((grid[i, (j-1)%N] + grid[i, (j+1)%N] +\n",
    "                             grid[(i-1)%N, j] + grid[(i+1)%N, j] +\n",
    "                             grid[(i-1)%N, (j-1)%N] + grid[(i-1)%N, (j+1)%N] +\n",
    "                             grid[(i+1)%N, (j-1)%N] + grid[(i+1)%N, (j+1)%N])/255)\n",
    "                \n",
    "                # apply Conway's rules\n",
    "                if grid[i, j]  == ON:\n",
    "                    if (total < 2) or (total > 3):\n",
    "                        newGrid[i, j] = OFF\n",
    "                else:\n",
    "                    if total == 3:\n",
    "                        newGrid[i, j] = ON\n",
    "\n",
    "        # update data\n",
    "        grid[:] = newGrid[:]\n",
    "    return(grid[:])\n",
    "\n",
    "def timeseries(numofsteps,grid,N):\n",
    "    series= []\n",
    "    series.append(grid.copy())\n",
    "    for s in range(numofsteps):\n",
    "        update(1,grid,N)\n",
    "        series.append(grid.copy())\n",
    "    return(series)\n",
    "\n",
    "\n",
    "    "
   ]
  },
  {
   "cell_type": "code",
   "execution_count": 3,
   "id": "d1bfd8ca",
   "metadata": {
    "scrolled": true
   },
   "outputs": [
    {
     "name": "stdout",
     "output_type": "stream",
     "text": [
      "[[255   0   0]\n",
      " [  0 255   0]\n",
      " [255   0   0]]\n"
     ]
    },
    {
     "data": {
      "text/plain": [
       "array([[255, 255, 255],\n",
       "       [255, 255, 255],\n",
       "       [255, 255, 255]])"
      ]
     },
     "execution_count": 3,
     "metadata": {},
     "output_type": "execute_result"
    }
   ],
   "source": [
    "grid=np.array([[255,0,0],[0,255,0],[255,0,0]])\n",
    "print(grid)\n",
    "update(1,grid,3)"
   ]
  },
  {
   "cell_type": "code",
   "execution_count": 4,
   "id": "22662939",
   "metadata": {},
   "outputs": [],
   "source": [
    "N=30\n",
    "steps=1\n",
    "grid = randomGrid(N)\n",
    "np.save(\"./timeseriesdata\",timeseries(steps,grid,N))"
   ]
  },
  {
   "cell_type": "code",
   "execution_count": 5,
   "id": "8c296cef",
   "metadata": {},
   "outputs": [
    {
     "data": {
      "image/png": "[encoded data removed]",
      "text/plain": [
       "<Figure size 432x288 with 1 Axes>"
      ]
     },
     "metadata": {
      "needs_background": "light"
     },
     "output_type": "display_data"
    },
    {
     "data": {
      "image/png": "[encoded data removed]",
      "text/plain": [
       "<Figure size 432x288 with 1 Axes>"
      ]
     },
     "metadata": {
      "needs_background": "light"
     },
     "output_type": "display_data"
    }
   ],
   "source": [
    "N=100\n",
    "fig, ax = plt.subplots()\n",
    "grid=randomGrid(N)\n",
    "#grid=np.array([[255,0,0,0,0],[0,0,255,0,0],[0,255,0,0,0],[0,0,0,0,0],[0,0,0,0,0]])\n",
    "img = ax.imshow(grid, interpolation='nearest')\n",
    "for i in range(1):\n",
    "    fig, ax = plt.subplots()\n",
    "    update(10,grid,N)\n",
    "    ax.imshow(grid, interpolation='nearest')"
   ]
  },
  {
   "cell_type": "markdown",
   "id": "3f776823",
   "metadata": {},
   "source": [
    "# Implementing some learning\n",
    "See this for reference https://arxiv.org/pdf/1807.10300.pdf  \n",
    "Tensorflow intro: https://www.tensorflow.org/tutorials/quickstart/beginner  \n",
    "Loss functions: https://keras.io/api/losses/  \n",
    "2D Convolutional layer: https://keras.io/api/layers/convolution_layers/convolution2d/  \n",
    "for periodic padding see: https://stackoverflow.com/questions/39088489/tensorflow-periodic-padding  \n",
    "\n",
    "Input: 3x3 layer  \n",
    "Then either convolutional layers, or dense layers (or both).  \n",
    "Output should by the probabilities of the central cell being ON or OFF  \n",
    "i.e. last layer output of size 2 with 'softmax' activation  "
   ]
  },
  {
   "cell_type": "code",
   "execution_count": 11,
   "id": "1586ce2f",
   "metadata": {},
   "outputs": [
    {
     "name": "stdout",
     "output_type": "stream",
     "text": [
      "[[  0   0   0]\n",
      " [255   0   0]\n",
      " [  0   0   0]]\n",
      "[0, 255]\n",
      "[[[0.]\n",
      "  [0.]\n",
      "  [0.]]\n",
      "\n",
      " [[1.]\n",
      "  [0.]\n",
      "  [0.]]\n",
      "\n",
      " [[0.]\n",
      "  [0.]\n",
      "  [0.]]]\n",
      "[0. 1.]\n"
     ]
    }
   ],
   "source": [
    "#generating a training and test dataset\n",
    "import tensorflow as tf\n",
    "\n",
    "#defining the learning model\n",
    "numofgrids=50000\n",
    "dimx=5\n",
    "dimy=5\n",
    "t=1\n",
    "middle=(np.floor(dimx/2),np.floor(dimy/2))\n",
    "(x_train,y_train)=([],[])\n",
    "for i in range(numofgrids):\n",
    "    grid=randomGrid(dimx)\n",
    "    x_train.append(grid[int(np.floor(dimx/2)-1):int(np.floor(dimx/2)+2),int(np.floor(dimy/2)-1):int(np.floor(dimy/2)+2)].copy())\n",
    "    grid_=update(t,grid,dimy).copy()\n",
    "    y_train.append([grid_[int(np.floor(dimx/2)),int(np.floor(dimx/2))].copy(), 255-grid_[int(np.floor(dimx/2)),int(np.floor(dimx/2))].copy()])\n",
    "print(x_train[0])\n",
    "print(y_train[0])\n",
    "x_train =np.array(x_train).reshape(numofgrids,3,3,1)/255\n",
    "y_train =np.array(y_train).reshape(numofgrids,2)/255\n",
    "\n",
    "print(x_train[0])\n",
    "print(y_train[0])"
   ]
  },
  {
   "cell_type": "code",
   "execution_count": 7,
   "id": "58710713",
   "metadata": {},
   "outputs": [
    {
     "data": {
      "text/plain": [
       "array([0.2033, 0.7967])"
      ]
     },
     "execution_count": 7,
     "metadata": {},
     "output_type": "execute_result"
    }
   ],
   "source": [
    "np.sum(y_train,axis=0)/50000"
   ]
  },
  {
   "cell_type": "code",
   "execution_count": 1,
   "id": "134e7c03",
   "metadata": {},
   "outputs": [
    {
     "ename": "NameError",
     "evalue": "name 'tf' is not defined",
     "output_type": "error",
     "traceback": [
      "\u001b[0;31m---------------------------------------------------------------------------\u001b[0m",
      "\u001b[0;31mNameError\u001b[0m                                 Traceback (most recent call last)",
      "\u001b[0;32m/tmp/ipykernel_60784/548807107.py\u001b[0m in \u001b[0;36m<module>\u001b[0;34m\u001b[0m\n\u001b[0;32m----> 1\u001b[0;31m \u001b[0mx\u001b[0m\u001b[0;34m=\u001b[0m\u001b[0mtf\u001b[0m\u001b[0;34m.\u001b[0m\u001b[0mrandom\u001b[0m\u001b[0;34m.\u001b[0m\u001b[0mnormal\u001b[0m\u001b[0;34m(\u001b[0m\u001b[0;34m(\u001b[0m\u001b[0mnumofgrids\u001b[0m\u001b[0;34m,\u001b[0m\u001b[0;36m3\u001b[0m\u001b[0;34m,\u001b[0m\u001b[0;36m3\u001b[0m\u001b[0;34m,\u001b[0m\u001b[0;36m1\u001b[0m\u001b[0;34m)\u001b[0m\u001b[0;34m)\u001b[0m\u001b[0;34m\u001b[0m\u001b[0;34m\u001b[0m\u001b[0m\n\u001b[0m\u001b[1;32m      2\u001b[0m y=tf.keras.layers.Conv2D(9,3,\n\u001b[1;32m      3\u001b[0m         \u001b[0minput_shape\u001b[0m\u001b[0;34m=\u001b[0m\u001b[0;34m(\u001b[0m\u001b[0;36m3\u001b[0m\u001b[0;34m,\u001b[0m\u001b[0;36m3\u001b[0m\u001b[0;34m,\u001b[0m\u001b[0;36m1\u001b[0m\u001b[0;34m)\u001b[0m\u001b[0;34m,\u001b[0m\u001b[0;34m\u001b[0m\u001b[0;34m\u001b[0m\u001b[0m\n\u001b[1;32m      4\u001b[0m         \u001b[0mstrides\u001b[0m\u001b[0;34m=\u001b[0m\u001b[0;34m(\u001b[0m\u001b[0;36m1\u001b[0m\u001b[0;34m,\u001b[0m \u001b[0;36m1\u001b[0m\u001b[0;34m)\u001b[0m\u001b[0;34m,\u001b[0m\u001b[0;34m\u001b[0m\u001b[0;34m\u001b[0m\u001b[0m\n\u001b[1;32m      5\u001b[0m         \u001b[0mpadding\u001b[0m\u001b[0;34m=\u001b[0m\u001b[0;34m\"valid\"\u001b[0m\u001b[0;34m,\u001b[0m\u001b[0;34m\u001b[0m\u001b[0;34m\u001b[0m\u001b[0m\n",
      "\u001b[0;31mNameError\u001b[0m: name 'tf' is not defined"
     ]
    }
   ],
   "source": [
    "x=tf.random.normal((numofgrids,3,3,1))\n",
    "y=tf.keras.layers.Conv2D(9,3,\n",
    "        input_shape=(3,3,1),\n",
    "        strides=(1, 1),\n",
    "        padding=\"valid\",\n",
    "        data_format=None,\n",
    "        dilation_rate=(1, 1),\n",
    "        groups=1,\n",
    "        activation=None,\n",
    "        use_bias=True,\n",
    "        kernel_initializer=\"glorot_uniform\",\n",
    "        bias_initializer=\"zeros\",\n",
    "        kernel_regularizer=None,\n",
    "        bias_regularizer=None,\n",
    "        activity_regularizer=None,\n",
    "        kernel_constraint=None,\n",
    "        bias_constraint=None)(x)\n",
    "print(y.shape)\n",
    "\n",
    "modelB = tf.keras.models.Sequential([\n",
    "    \n",
    "    tf.keras.layers.Flatten(),\n",
    "     tf.keras.layers.Dense(100),\n",
    "         tf.keras.layers.Dense(100),\n",
    "         tf.keras.layers.Dense(10),\n",
    "    tf.keras.layers.Dense(2,activation=\"softmax\")\n",
    "])\n",
    "\n",
    "modelA = tf.keras.models.Sequential([\n",
    "    \n",
    "    tf.keras.layers.Conv2D(9,3,\n",
    "        input_shape=(3,3,1),\n",
    "        strides=(1, 1),\n",
    "        padding=\"same\",\n",
    "        data_format=None,\n",
    "        dilation_rate=(1, 1),\n",
    "        groups=1,\n",
    "        activation=None,\n",
    "        use_bias=True,\n",
    "        kernel_initializer=\"glorot_uniform\",\n",
    "        bias_initializer=\"zeros\",\n",
    "        kernel_regularizer=None,\n",
    "        bias_regularizer=None,\n",
    "        activity_regularizer=None,\n",
    "        kernel_constraint=None,\n",
    "        bias_constraint=None),\n",
    "    tf.keras.layers.Conv2D(9,3,\n",
    "        input_shape=(50000,1,1,9),\n",
    "        strides=(1, 1),\n",
    "        padding=\"valid\",\n",
    "        data_format=None,\n",
    "        dilation_rate=(1, 1),\n",
    "        groups=1,\n",
    "        activation=None,\n",
    "        use_bias=True,\n",
    "        kernel_initializer=\"glorot_uniform\",\n",
    "        bias_initializer=\"zeros\",\n",
    "        kernel_regularizer=None,\n",
    "        bias_regularizer=None,\n",
    "        activity_regularizer=None,\n",
    "        kernel_constraint=None,\n",
    "        bias_constraint=None),\n",
    "\n",
    "    tf.keras.layers.Dense(2,activation=\"softmax\")\n",
    "])\n",
    "\n",
    "\n",
    "\n",
    "#print(tf.nn.softmax(predictions).numpy())\n",
    "loss_fn = tf.keras.losses.CategoricalCrossentropy(from_logits=False)\n",
    "predictions = modelA(x_train).numpy()\n",
    "loss_fn(y_train, predictions).numpy()\n",
    "modelA.compile(optimizer='adam',\n",
    "              loss=loss_fn,\n",
    "              metrics=[tf.keras.metrics.BinaryAccuracy()])\n",
    "modelA.fit(x_train, y_train, epochs=5)\n",
    "predictions = modelA(x_train).numpy()\n",
    "predictions[0]"
   ]
  },
  {
   "cell_type": "code",
   "execution_count": 5,
   "id": "9a1c1557",
   "metadata": {},
   "outputs": [
    {
     "name": "stdout",
     "output_type": "stream",
     "text": [
      "[[0.8901023  0.10989771]\n",
      " [0.27429867 0.72570133]]\n",
      "[[[1. 0. 1.]\n",
      "  [0. 0. 0.]\n",
      "  [0. 0. 0.]]\n",
      "\n",
      " [[1. 0. 1.]\n",
      "  [1. 0. 0.]\n",
      "  [1. 0. 0.]]]\n"
     ]
    }
   ],
   "source": [
    "print(modelA(x_train[1:3]).numpy())\n",
    "print(x_train[1:3].reshape(2,3,3))"
   ]
  },
  {
   "cell_type": "code",
   "execution_count": 6,
   "id": "1e4b12a9",
   "metadata": {},
   "outputs": [
    {
     "name": "stdout",
     "output_type": "stream",
     "text": [
      "[[1 0 0]\n",
      " [0 0 0]\n",
      " [1 0 1]]\n"
     ]
    },
    {
     "data": {
      "text/plain": [
       "array([[0.6196021 , 0.38039795]], dtype=float32)"
      ]
     },
     "execution_count": 6,
     "metadata": {},
     "output_type": "execute_result"
    }
   ],
   "source": [
    "grid=np.array([[1,0,0],[0,0,0],[1,0,1]])\n",
    "print(grid)\n",
    "modelA(grid.reshape(1,3,3,1)).numpy()\n",
    "\n"
   ]
  },
  {
   "cell_type": "code",
   "execution_count": 7,
   "id": "9e865966",
   "metadata": {},
   "outputs": [
    {
     "data": {
      "text/plain": [
       "3.0"
      ]
     },
     "execution_count": 7,
     "metadata": {},
     "output_type": "execute_result"
    }
   ],
   "source": [
    "np.floor(3.4)"
   ]
  },
  {
   "cell_type": "code",
   "execution_count": 8,
   "id": "75d48f26",
   "metadata": {},
   "outputs": [
    {
     "data": {
      "image/png": "[encoded data removed]",
      "text/plain": [
       "<Figure size 432x288 with 1 Axes>"
      ]
     },
     "metadata": {
      "needs_background": "light"
     },
     "output_type": "display_data"
    },
    {
     "data": {
      "image/png": "[encoded data removed]",
      "text/plain": [
       "<Figure size 432x288 with 1 Axes>"
      ]
     },
     "metadata": {
      "needs_background": "light"
     },
     "output_type": "display_data"
    }
   ],
   "source": [
    "\n",
    "N=3\n",
    "time=1\n",
    "grid=randomGrid(N)\n",
    "\n",
    "gridev=timeseries(time,grid,N)\n",
    "for t in range(time+1):\n",
    "    fig, ax = plt.subplots()\n",
    "    fig=ax.imshow(gridev[t], interpolation='nearest')"
   ]
  },
  {
   "cell_type": "code",
   "execution_count": 9,
   "id": "9b6efbf6",
   "metadata": {},
   "outputs": [
    {
     "name": "stdout",
     "output_type": "stream",
     "text": [
      "[[255   0   0]\n",
      " [  0 255   0]\n",
      " [255   0   0]]\n",
      "[[255 255 255]\n",
      " [255 255 255]\n",
      " [255 255 255]]\n"
     ]
    },
    {
     "data": {
      "image/png": "[encoded data removed]",
      "text/plain": [
       "<Figure size 432x288 with 1 Axes>"
      ]
     },
     "metadata": {
      "needs_background": "light"
     },
     "output_type": "display_data"
    },
    {
     "data": {
      "image/png": "[encoded data removed]",
      "text/plain": [
       "<Figure size 432x288 with 1 Axes>"
      ]
     },
     "metadata": {
      "needs_background": "light"
     },
     "output_type": "display_data"
    }
   ],
   "source": [
    "\n",
    "N=3\n",
    "time=1\n",
    "grid=np.array([[255,0,0],[0,255,0],[255,0,0]])\n",
    "#grid=np.array([[0,0,0,0,0],[0,255,0,0,0],[0,0,255,0,0],[0,255,0,0,0],[0,0,0,0,0]])\n",
    "gridev=timeseries(time,grid,N)\n",
    "\n",
    "for t in range(time+1):\n",
    "    print(gridev[t])\n",
    "    fig, ax = plt.subplots()\n",
    "    fig=ax.imshow(gridev[t], interpolation='none')"
   ]
  },
  {
   "cell_type": "code",
   "execution_count": 10,
   "id": "924ffe45",
   "metadata": {},
   "outputs": [
    {
     "data": {
      "text/plain": [
       "array([[0., 0., 0.],\n",
       "       [0., 0., 0.],\n",
       "       [0., 0., 0.]])"
      ]
     },
     "execution_count": 10,
     "metadata": {},
     "output_type": "execute_result"
    }
   ],
   "source": [
    "np.zeros((5,5))[int(np.floor(5/2)-1):int(np.floor(5/2)+2),int(np.floor(5/2)-1):int(np.floor(5/2)+2)]"
   ]
  },
  {
   "cell_type": "code",
   "execution_count": 11,
   "id": "6eac8b16",
   "metadata": {},
   "outputs": [
    {
     "data": {
      "text/plain": [
       "(1, 4)"
      ]
     },
     "execution_count": 11,
     "metadata": {},
     "output_type": "execute_result"
    }
   ],
   "source": [
    "int(np.floor(5/2)-1),int(np.floor(5/2)+2)"
   ]
  },
  {
   "cell_type": "code",
   "execution_count": 12,
   "id": "a961d0b0",
   "metadata": {},
   "outputs": [
    {
     "data": {
      "text/plain": [
       "array([[0., 0., 0.],\n",
       "       [0., 0., 0.],\n",
       "       [0., 0., 0.]])"
      ]
     },
     "execution_count": 12,
     "metadata": {},
     "output_type": "execute_result"
    }
   ],
   "source": [
    "np.zeros((5,5))[1:4,1:4]"
   ]
  },
  {
   "cell_type": "code",
   "execution_count": 13,
   "id": "4a2fe13a",
   "metadata": {
    "scrolled": true
   },
   "outputs": [
    {
     "name": "stdout",
     "output_type": "stream",
     "text": [
      "[[  0   0 255   0   0]\n",
      " [  0   0   0   0   0]\n",
      " [  0   0   0   0   0]\n",
      " [  0 255   0   0   0]\n",
      " [255   0   0   0 255]]\n",
      "[[  0   0   0   0   0]\n",
      " [  0   0   0   0   0]\n",
      " [  0   0   0   0   0]\n",
      " [255   0   0   0   0]\n",
      " [255 255   0   0   0]]\n",
      "[array([[  0,   0,   0],\n",
      "       [  0,   0,   0],\n",
      "       [255,   0,   0]])]\n",
      "[0]\n"
     ]
    }
   ],
   "source": [
    "dimx=5\n",
    "dimy=5\n",
    "t=1\n",
    "(x_train,y_train)=([],[])\n",
    "grid=randomGrid(dimx)\n",
    "print(grid)\n",
    "x_train.append(grid[int(np.floor(dimx/2)-1):int(np.floor(dimx/2)+2),int(np.floor(dimy/2)-1):int(np.floor(dimy/2)+2)].copy())\n",
    "grid_=update(t,grid,dimy).copy()\n",
    "print(grid_)\n",
    "y_train.append(grid_[int(np.floor(dimx/2)),int(np.floor(dimx/2))].copy())\n",
    "print(x_train)\n",
    "print(y_train)"
   ]
  },
  {
   "cell_type": "code",
   "execution_count": null,
   "id": "b3dea4dd",
   "metadata": {},
   "outputs": [],
   "source": []
  },
  {
   "cell_type": "code",
   "execution_count": null,
   "id": "0b2e0f2b",
   "metadata": {},
   "outputs": [],
   "source": []
  },
  {
   "cell_type": "code",
   "execution_count": null,
   "id": "3db04544",
   "metadata": {},
   "outputs": [],
   "source": []
  },
  {
   "cell_type": "code",
   "execution_count": null,
   "id": "8a30b8fe",
   "metadata": {},
   "outputs": [],
   "source": []
  }
 ],
 "metadata": {
  "kernelspec": {
   "display_name": "Python 3 (ipykernel)",
   "language": "python",
   "name": "python3"
  },
  "language_info": {
   "codemirror_mode": {
    "name": "ipython",
    "version": 3
   },
   "file_extension": ".py",
   "mimetype": "text/x-python",
   "name": "python",
   "nbconvert_exporter": "python",
   "pygments_lexer": "ipython3",
   "version": "3.8.10"
  }
 },
 "nbformat": 4,
 "nbformat_minor": 5
}
