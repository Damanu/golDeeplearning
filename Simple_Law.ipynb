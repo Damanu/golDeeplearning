{
 "cells": [
  {
   "cell_type": "markdown",
   "id": "3393a5f3",
   "metadata": {},
   "source": [
    "Learning All laws on a 1D grid\n",
    "============================\n",
    "Using Wolfram's 256 rules of Cellular Automata"
   ]
  },
  {
   "cell_type": "code",
   "execution_count": 1,
   "id": "c44e91f9",
   "metadata": {},
   "outputs": [
    {
     "name": "stderr",
     "output_type": "stream",
     "text": [
      "2022-01-25 12:13:32.882714: W tensorflow/stream_executor/platform/default/dso_loader.cc:64] Could not load dynamic library 'libcudart.so.11.0'; dlerror: libcudart.so.11.0: cannot open shared object file: No such file or directory\n",
      "2022-01-25 12:13:32.882815: I tensorflow/stream_executor/cuda/cudart_stub.cc:29] Ignore above cudart dlerror if you do not have a GPU set up on your machine.\n"
     ]
    }
   ],
   "source": [
    "import argparse\n",
    "import numpy as np\n",
    "import matplotlib.pyplot as plt\n",
    "import matplotlib.animation as animation\n",
    "import tensorflow as tf"
   ]
  },
  {
   "cell_type": "markdown",
   "id": "d5b297c7",
   "metadata": {},
   "source": [
    "# Learning Simple Laws"
   ]
  },
  {
   "cell_type": "markdown",
   "id": "584557c9",
   "metadata": {},
   "source": [
    "## Constant motion  \n",
    "(replaced by Wolfram's rules since it is one of them)"
   ]
  },
  {
   "cell_type": "code",
   "execution_count": 259,
   "id": "cc8f0f04",
   "metadata": {},
   "outputs": [],
   "source": [
    "L=10 #length of 1-d box\n",
    "\n",
    "def cm_update(x):\n",
    "    L=len(x)\n",
    "    y=x.copy()\n",
    "    for i in range(L):\n",
    "        y[i]=x[(i-1)%L]\n",
    "    return(y)\n"
   ]
  },
  {
   "cell_type": "markdown",
   "id": "9c5d401d",
   "metadata": {},
   "source": [
    "## Wolfram's 256 Rules"
   ]
  },
  {
   "cell_type": "markdown",
   "id": "fdbd0766",
   "metadata": {},
   "source": [
    "These are all cellular automaton rules for a 1-d array with only neares neighbour interaction. There are therefore only three cells (L,C,R) determining the outcome of one cell (C). This gives 2^3=8 possible combinations that can give rise to an outcome of 2 possibilities. Thus there are 2^8=256 possible rules. \n",
    "\n",
    "The following function generates each of these rules.\n",
    " \n",
    "Input:  \n",
    "num = number of rule  \n",
    "inp = string of input bits   \n",
    "t = number of timesteps calculated  \n",
    "\n",
    "Output: an array of arrays each for one timestep beginning with the input array. \n",
    "\n",
    "The boudary conditions are periodic\n",
    "        "
   ]
  },
  {
   "cell_type": "code",
   "execution_count": 220,
   "id": "88558917",
   "metadata": {},
   "outputs": [],
   "source": [
    "def CellularAutomata(num,inp,t):\n",
    "    bnum = np.flip(np.fromiter(np.binary_repr(num,width=8),dtype=int))\n",
    "    out = [np.fromiter(inp,dtype=int)]\n",
    "    lin = len(inp)\n",
    "    currinp = inp\n",
    "    for n in range(t):\n",
    "        outnow = []\n",
    "        for i in range(len(inp)):\n",
    "            outnow = np.append(outnow,bnum[int(str(currinp[(i-1)%lin])+str(currinp[(i)%lin])+str(currinp[(i+1)%lin]),2)])\n",
    "\n",
    "        currinp =''.join([str(int(elem)) for elem in outnow])\n",
    "        out = np.append(out,[outnow],axis=0)\n",
    "    return(out)\n"
   ]
  },
  {
   "cell_type": "markdown",
   "id": "d2a7aed1",
   "metadata": {},
   "source": [
    "## Learning"
   ]
  },
  {
   "cell_type": "code",
   "execution_count": 461,
   "id": "e33f8822",
   "metadata": {},
   "outputs": [],
   "source": [
    "N=10000 #batch size\n",
    "L=3 #Length of box\n",
    "rule= 1\n",
    "time = 1\n",
    "\n",
    "x_train=[]\n",
    "y_train=[]\n",
    "\n",
    "\n",
    "for i in range(N):\n",
    "    x=np.random.randint(0,2,L)\n",
    "    x_train.append(x)\n",
    "    y_train.append(CellularAutomata(rule,''.join([str(int(elem)) for elem in x]),time)[time,2])\n",
    "\n",
    "    \n",
    "x_train = np.array(x_train).reshape(N,L)\n",
    "y_train = np.array(y_train).reshape(N,1)"
   ]
  },
  {
   "cell_type": "markdown",
   "id": "18c4a44a",
   "metadata": {},
   "source": [
    "Ok, using the above data we don't get any reasonable results. For some reason the machine only reproduces statistics of the training set. Eg. for rule 1 it the achieved accuracy is exaclty the occurence of the input \"000\", which is the only one that does not result in 0 for the middle cell."
   ]
  },
  {
   "cell_type": "code",
   "execution_count": 465,
   "id": "401de260",
   "metadata": {},
   "outputs": [
    {
     "name": "stdout",
     "output_type": "stream",
     "text": [
      "0.1237\n"
     ]
    }
   ],
   "source": [
    "#Counting the number of occurence of certain elements\n",
    "count=0\n",
    "for x in x_train:\n",
    "  #  if all(x == [0,0,1]) or all(x == [0,0,0]) or all(x == [1,0,0]) or all(x == [1,1,0]) or all(x == [1,1,1]):\n",
    "    if all(x == [0,0,0]):\n",
    "         \n",
    "        count+=1\n",
    "print(count/N)"
   ]
  },
  {
   "cell_type": "code",
   "execution_count": 463,
   "id": "f365743c",
   "metadata": {},
   "outputs": [],
   "source": [
    "model = tf.keras.models.Sequential([\n",
    "    tf.keras.layers.Flatten(),\n",
    "    tf.keras.layers.Dense(1),\n",
    "    tf.keras.layers.Dense(6),\n",
    "    tf.keras.layers.Dense(6),\n",
    "    tf.keras.layers.Dense(1,activation=\"softmax\")\n",
    "])"
   ]
  },
  {
   "cell_type": "code",
   "execution_count": 464,
   "id": "f851c8a4",
   "metadata": {},
   "outputs": [
    {
     "name": "stdout",
     "output_type": "stream",
     "text": [
      "Epoch 1/6\n",
      "313/313 [==============================] - 1s 1ms/step - loss: 0.0000e+00 - binary_accuracy: 0.1237\n",
      "Epoch 2/6\n",
      "313/313 [==============================] - 0s 1ms/step - loss: 0.0000e+00 - binary_accuracy: 0.1237\n",
      "Epoch 3/6\n",
      "313/313 [==============================] - 0s 1ms/step - loss: 0.0000e+00 - binary_accuracy: 0.1237\n",
      "Epoch 4/6\n",
      "313/313 [==============================] - 0s 1ms/step - loss: 0.0000e+00 - binary_accuracy: 0.1237\n",
      "Epoch 5/6\n",
      "313/313 [==============================] - 0s 1ms/step - loss: 0.0000e+00 - binary_accuracy: 0.1237\n",
      "Epoch 6/6\n",
      "313/313 [==============================] - 0s 1ms/step - loss: 0.0000e+00 - binary_accuracy: 0.1237\n"
     ]
    }
   ],
   "source": [
    "loss_fn = tf.keras.losses.CategoricalCrossentropy(from_logits=True)\n",
    "predictions = model(x_train).numpy()\n",
    "\n",
    "loss_fn(y_train, predictions).numpy()\n",
    "\n",
    "model.compile(optimizer='adam',\n",
    "              loss=loss_fn,\n",
    "              metrics=[tf.keras.metrics.BinaryAccuracy()])\n",
    "model.fit(x_train, y_train, epochs=6)\n",
    "pred=model(x_train).numpy()"
   ]
  },
  {
   "cell_type": "markdown",
   "id": "18301535",
   "metadata": {},
   "source": [
    "## Exact predictions"
   ]
  },
  {
   "cell_type": "code",
   "execution_count": 389,
   "id": "f536dc0b",
   "metadata": {},
   "outputs": [
    {
     "name": "stdout",
     "output_type": "stream",
     "text": [
      "x_train:  [0 0 1]\n",
      "y_train:  [1.]\n",
      "Machine:  [[1.]]\n"
     ]
    }
   ],
   "source": [
    "data=100\n",
    "print(\"x_train: \",x_train[data])\n",
    "print(\"y_train: \",y_train[data])\n",
    "a=np.array(x_train[data]).reshape(1,L)\n",
    "print(\"Machine: \",np.rint(model(a).numpy())) #rounding to integer"
   ]
  },
  {
   "cell_type": "code",
   "execution_count": 404,
   "id": "470654c1",
   "metadata": {},
   "outputs": [
    {
     "name": "stdout",
     "output_type": "stream",
     "text": [
      "in:  001\n",
      "out:  [0. 1. 1.]\n",
      "Machine:  [[1.]]\n"
     ]
    }
   ],
   "source": [
    "inp=\"001\"\n",
    "print(\"in: \",inp)\n",
    "print(\"out: \", CellularAutomata(110,inp,1)[1])\n",
    "a=np.array([0, 0, 1]).reshape(1,L)\n",
    "print(\"Machine: \",np.rint(model(a).numpy())) #rounding to integer"
   ]
  },
  {
   "cell_type": "code",
   "execution_count": 397,
   "id": "2bd4a5db",
   "metadata": {},
   "outputs": [
    {
     "data": {
      "text/plain": [
       "array([[0., 0., 0.],\n",
       "       [0., 0., 0.]])"
      ]
     },
     "execution_count": 397,
     "metadata": {},
     "output_type": "execute_result"
    }
   ],
   "source": [
    "CellularAutomata(110,\"000\",1)"
   ]
  },
  {
   "cell_type": "markdown",
   "id": "e2a193e2",
   "metadata": {},
   "source": [
    "This does not seem to work"
   ]
  },
  {
   "cell_type": "code",
   "execution_count": null,
   "id": "3a903e05",
   "metadata": {},
   "outputs": [],
   "source": []
  }
 ],
 "metadata": {
  "kernelspec": {
   "display_name": "Python 3 (ipykernel)",
   "language": "python",
   "name": "python3"
  },
  "language_info": {
   "codemirror_mode": {
    "name": "ipython",
    "version": 3
   },
   "file_extension": ".py",
   "mimetype": "text/x-python",
   "name": "python",
   "nbconvert_exporter": "python",
   "pygments_lexer": "ipython3",
   "version": "3.8.10"
  }
 },
 "nbformat": 4,
 "nbformat_minor": 5
}
