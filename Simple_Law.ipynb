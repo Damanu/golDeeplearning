{
 "cells": [
  {
   "cell_type": "markdown",
   "id": "85ff702a",
   "metadata": {},
   "source": [
    "Learning All laws on a 1D grid\n",
    "============================\n",
    "Using Wolfram's 256 rules of Cellular Automata"
   ]
  },
  {
   "cell_type": "code",
   "execution_count": 1,
   "id": "c44e91f9",
   "metadata": {},
   "outputs": [
    {
     "name": "stderr",
     "output_type": "stream",
     "text": [
      "2022-01-27 14:06:58.024900: W tensorflow/stream_executor/platform/default/dso_loader.cc:64] Could not load dynamic library 'libcudart.so.11.0'; dlerror: libcudart.so.11.0: cannot open shared object file: No such file or directory\n",
      "2022-01-27 14:06:58.024961: I tensorflow/stream_executor/cuda/cudart_stub.cc:29] Ignore above cudart dlerror if you do not have a GPU set up on your machine.\n"
     ]
    }
   ],
   "source": [
    "import argparse\n",
    "import numpy as np\n",
    "import matplotlib.pyplot as plt\n",
    "import matplotlib.animation as animation\n",
    "import tensorflow as tf"
   ]
  },
  {
   "cell_type": "markdown",
   "id": "584557c9",
   "metadata": {},
   "source": [
    "## Constant motion  \n",
    "(replaced by Wolfram's rules since it is one of them, namely eg. Rule 170 moving to the left)"
   ]
  },
  {
   "cell_type": "code",
   "execution_count": 2,
   "id": "cc8f0f04",
   "metadata": {},
   "outputs": [],
   "source": [
    "L=10 #length of 1-d box\n",
    "\n",
    "def cm_update(x):\n",
    "    L=len(x)\n",
    "    y=x.copy()\n",
    "    for i in range(L):\n",
    "        y[i]=x[(i-1)%L]\n",
    "    return(y)\n"
   ]
  },
  {
   "cell_type": "markdown",
   "id": "9c5d401d",
   "metadata": {},
   "source": [
    "## Wolfram's 256 Rules"
   ]
  },
  {
   "cell_type": "markdown",
   "id": "fdbd0766",
   "metadata": {},
   "source": [
    "These are all cellular automaton rules for a 1-d array with only neares neighbour interaction. There are therefore only three cells (L,C,R) determining the outcome of one cell (C). This gives 2^3=8 possible combinations that can give rise to an outcome of 2 possibilities. Thus there are 2^8=256 possible rules. \n",
    "\n",
    "The following function generates each of these rules.\n",
    " \n",
    "Input:  \n",
    "num = number of rule  \n",
    "inp = string of input bits   \n",
    "t = number of timesteps calculated  \n",
    "\n",
    "Output: an array of arrays each for one timestep beginning with the input array. \n",
    "\n",
    "The boudary conditions are periodic\n",
    "        "
   ]
  },
  {
   "cell_type": "code",
   "execution_count": 3,
   "id": "88558917",
   "metadata": {},
   "outputs": [],
   "source": [
    "def CellularAutomata(num,inp,t):\n",
    "    bnum = np.flip(np.fromiter(np.binary_repr(num,width=8),dtype=int))\n",
    "    out = [np.fromiter(inp,dtype=int)]\n",
    "    lin = len(inp)\n",
    "    currinp = inp\n",
    "    for n in range(t):\n",
    "        outnow = []\n",
    "        for i in range(len(inp)):\n",
    "            outnow = np.append(outnow,bnum[int(str(currinp[(i-1)%lin])+str(currinp[(i)%lin])+str(currinp[(i+1)%lin]),2)])\n",
    "\n",
    "        currinp =''.join([str(int(elem)) for elem in outnow])\n",
    "        out = np.append(out,[outnow],axis=0)\n",
    "    return(out)\n"
   ]
  },
  {
   "cell_type": "markdown",
   "id": "d2a7aed1",
   "metadata": {},
   "source": [
    "## Generating Data"
   ]
  },
  {
   "cell_type": "code",
   "execution_count": 302,
   "id": "dd85489a",
   "metadata": {},
   "outputs": [
    {
     "name": "stdout",
     "output_type": "stream",
     "text": [
      "(1000, 100, 1) (1000, 100)\n"
     ]
    }
   ],
   "source": [
    "N=1000 #batch size\n",
    "L=100 #Length of box\n",
    "rule= 10\n",
    "time = 1\n",
    "\n",
    "x_train=[]\n",
    "y_train=[]\n",
    "\n",
    "\n",
    "for i in range(N):\n",
    "    #x=[0,0,0]\n",
    "    #x[np.random.randint(0,3)]=1\n",
    "    x=np.random.randint(0,2,L)\n",
    "    x_train.append(np.copy(x))\n",
    "    y_train.append(np.copy(CellularAutomata(rule,''.join([str(int(elem)) for elem in x]),time)[time]))\n",
    "    #print(''.join([str(int(elem)) for elem in x]),CellularAutomata(rule,''.join([str(int(elem)) for elem in x]),time)[time,0])\n",
    "\n",
    "#for i in range(20):\n",
    " #   print(x_train[i],y_train[i])\n",
    "    \n",
    "x_train = np.array(x_train).reshape(N,L,1)\n",
    "y_train = np.array(y_train).reshape(N,L)\n",
    "print(x_train.shape,y_train.shape)"
   ]
  },
  {
   "cell_type": "code",
   "execution_count": 203,
   "id": "2562095b",
   "metadata": {},
   "outputs": [
    {
     "name": "stdout",
     "output_type": "stream",
     "text": [
      "0.0073\n"
     ]
    }
   ],
   "source": [
    "#Counting the number of occurence of certain elements\n",
    "#must be done before reshape (will error usually, unomment the reshape above)\n",
    "count=0\n",
    "for x in x_train:\n",
    "  #  if all(x == [0,0,1]) or all(x == [0,0,0]) or all(x == [1,0,0]) or all(x == [1,1,0]) or all(x == [1,1,1]):\n",
    "    if all(x == [0,0,0,0,0,0,0]):\n",
    "         \n",
    "        count+=1\n",
    "print(count/N)"
   ]
  },
  {
   "cell_type": "markdown",
   "id": "caf11431",
   "metadata": {},
   "source": [
    "## Models\n",
    "useful resource for understanding what is going on:  \n",
    "Padding https://machinelearningmastery.com/padding-and-stride-for-convolutional-neural-networks/  \n",
    "Guide to 2d conv layers https://machinelearningmastery.com/padding-and-stride-for-convolutional-neural-networks/  \n",
    "Guide to 1d conv layers https://machinelearningmastery.com/convolutional-layers-for-deep-learning-neural-networks/  \n",
    "shapes, dimensions and units https://stackoverflow.com/questions/44747343/keras-input-explanation-input-shape-units-batch-size-dim-etc  \n"
   ]
  },
  {
   "cell_type": "markdown",
   "id": "e4f8968d",
   "metadata": {},
   "source": [
    "### Dense layers"
   ]
  },
  {
   "cell_type": "code",
   "execution_count": null,
   "id": "b780c841",
   "metadata": {},
   "outputs": [],
   "source": [
    "model = tf.keras.models.Sequential([\n",
    "    tf.keras.layers.Flatten(),\n",
    "    tf.keras.layers.Dense(1),\n",
    "    tf.keras.layers.Dense(L,activation=\"softmax\")\n",
    "])"
   ]
  },
  {
   "cell_type": "markdown",
   "id": "5bf2eb79",
   "metadata": {},
   "source": [
    "### 1-D Convolutional layer"
   ]
  },
  {
   "cell_type": "code",
   "execution_count": 221,
   "id": "fb3c1c67",
   "metadata": {},
   "outputs": [],
   "source": [
    "#Periodic padding (not currently in use)\n",
    "def periodic_padding_flexible(tensor, axis,padding=1):\n",
    "    \"\"\"\n",
    "        add periodic padding to a tensor for specified axis\n",
    "        tensor: input tensor\n",
    "        axis: on or multiple axis to pad along, int or tuple\n",
    "        padding: number of cells to pad, int or tuple\n",
    "\n",
    "        return: padded tensor\n",
    "    \"\"\"\n",
    "\n",
    "\n",
    "    if isinstance(axis,int):\n",
    "        axis = (axis,)\n",
    "    if isinstance(padding,int):\n",
    "        padding = (padding,)\n",
    "\n",
    "    ndim = len(tensor.shape)\n",
    "    for ax,p in zip(axis,padding):\n",
    "        # create a slice object that selects everything from all axes,\n",
    "        # except only 0:p for the specified for right, and -p: for left\n",
    "\n",
    "        ind_right = [slice(-p,None) if i == ax else slice(None) for i in range(ndim)]\n",
    "        ind_left = [slice(0, p) if i == ax else slice(None) for i in range(ndim)]\n",
    "        right = tensor[ind_right]\n",
    "        left = tensor[ind_left]\n",
    "        middle = tensor\n",
    "        tensor = tf.concat([right,middle,left], axis=ax)\n",
    "\n",
    "    return tensor"
   ]
  },
  {
   "cell_type": "code",
   "execution_count": 222,
   "id": "7d113e33",
   "metadata": {},
   "outputs": [],
   "source": [
    "## defining the model\n",
    "model = tf.keras.models.Sequential()\n",
    "model.add(tf.keras.layers.Conv1D(100, 3, activation='relu', input_shape=(L,1),padding='valid'))\n",
    "model.add(tf.keras.layers.Conv1D(100, 1, activation='relu', input_shape=(L,1),padding='valid'))\n",
    "model.add(tf.keras.layers.Flatten())\n",
    "model.add(tf.keras.layers.Dense(L,activation=\"softmax\"))\n"
   ]
  },
  {
   "cell_type": "code",
   "execution_count": 250,
   "id": "49b185d8",
   "metadata": {},
   "outputs": [
    {
     "data": {
      "text/plain": [
       "<tf.Tensor: shape=(1, 12), dtype=int32, numpy=array([[ 1,  2,  3,  4,  5,  6,  7,  8,  9, 10, 11, 12]], dtype=int32)>"
      ]
     },
     "execution_count": 250,
     "metadata": {},
     "output_type": "execute_result"
    }
   ],
   "source": [
    "t1 = [[1, 2, 3,4, 5, 6]]\n",
    "t2 = [[7, 8, 9,10, 11, 12]]\n",
    "tf.concat([t1, t2], 1)\n"
   ]
  },
  {
   "cell_type": "code",
   "execution_count": 303,
   "id": "41147436",
   "metadata": {},
   "outputs": [],
   "source": [
    "#add periodic padding\n",
    "def periodic_padding(imbatch, padding=1):\n",
    "    '''\n",
    "    Create a periodic padding (wrap) around an image batch, to emulate \n",
    "    periodic boundary conditions. Padding occurs along the middle two axes\n",
    "    '''\n",
    "    pad_u = imbatch[:, -padding:, :]\n",
    "    pad_b = imbatch[:, :padding, :]\n",
    "\n",
    "    partial_image = tf.concat([pad_u, imbatch, pad_b], axis=1)\n",
    "\n",
    "#    pad_l = partial_image[..., -padding:, :]\n",
    " #   pad_r = partial_image[..., :padding, :]\n",
    "\n",
    " #   padded_imbatch = tf.concat([pad_l, partial_image, pad_r], axis=2)\n",
    "          \n",
    "    \n",
    "    return padded_imbatch\n",
    "\n",
    "class Wraparound2D(tf.keras.layers.Layer):\n",
    "    \"\"\"\n",
    "    Apply periodic boundary conditions on an image by padding \n",
    "    along the axes\n",
    "    padding : int or tuple, the amount to wrap around    \n",
    "    \"\"\"\n",
    "\n",
    "    def __init__(self, padding=2, **kwargs):\n",
    "        super(Wraparound2D, self).__init__()\n",
    "        self.padding = padding"
   ]
  },
  {
   "cell_type": "code",
   "execution_count": 307,
   "id": "be67d0ab",
   "metadata": {},
   "outputs": [
    {
     "name": "stdout",
     "output_type": "stream",
     "text": [
      "Model: \"sequential_68\"\n",
      "_________________________________________________________________\n",
      "Layer (type)                 Output Shape              Param #   \n",
      "=================================================================\n",
      "wraparound2d_28 (Wraparound2 (None, 100, 1)            0         \n",
      "_________________________________________________________________\n",
      "conv1d_216 (Conv1D)          (None, 100, 10)           40        \n",
      "_________________________________________________________________\n",
      "conv1d_217 (Conv1D)          (None, 100, 8)            88        \n",
      "_________________________________________________________________\n",
      "conv1d_218 (Conv1D)          (None, 100, 8)            72        \n",
      "_________________________________________________________________\n",
      "flatten_67 (Flatten)         (None, 800)               0         \n",
      "_________________________________________________________________\n",
      "dense_156 (Dense)            (None, 100)               80100     \n",
      "=================================================================\n",
      "Total params: 80,300\n",
      "Trainable params: 80,300\n",
      "Non-trainable params: 0\n",
      "_________________________________________________________________\n"
     ]
    }
   ],
   "source": [
    "## (Approx) Model from Paper https://arxiv.org/pdf/1809.02942.pdf\n",
    "nhood = 1\n",
    "shape = (1,L)\n",
    "wspan,hspan = shape\n",
    "diameter = 3\n",
    "layer_dims=[10,8,8]\n",
    "\n",
    "model = tf.keras.models.Sequential()\n",
    "model.add(tf.keras.layers.InputLayer((hspan,1))) \n",
    "model.add(Wraparound2D(padding=nhood)) #adding periodic padding extending by nhood\n",
    "model.add(tf.keras.layers.Conv1D(\n",
    "        layer_dims[0],\n",
    "        diameter,\n",
    "        activation='softmax', \n",
    "        input_shape=(hspan,1),\n",
    "        padding='same',\n",
    "        kernel_initializer=tf.keras.initializers.he_normal(),\n",
    "        bias_initializer=tf.keras.initializers.he_normal()                                \n",
    "        )      \n",
    "    )\n",
    "for i in range(1,len(layer_dims)):      \n",
    "    model.add(tf.keras.layers.Conv1D(layer_dims[i],1, activation='softmax', input_shape=(hspan,1),padding='same'))\n",
    "    #model.add(tf.keras.layers.Dense(layer_dims[i], activation='relu'))\n",
    "model.add(tf.keras.layers.Flatten())\n",
    "model.add(tf.keras.layers.Dense(L,activation=\"softmax\"))\n",
    "model.summary()\n"
   ]
  },
  {
   "cell_type": "markdown",
   "id": "eb1bd04d",
   "metadata": {},
   "source": [
    "### Executing the learning"
   ]
  },
  {
   "cell_type": "code",
   "execution_count": 308,
   "id": "f851c8a4",
   "metadata": {},
   "outputs": [
    {
     "name": "stdout",
     "output_type": "stream",
     "text": [
      "Epoch 1/50\n",
      "32/32 [==============================] - 1s 4ms/step - loss: 146.9821 - binary_accuracy: 0.7504\n",
      "Epoch 2/50\n",
      "32/32 [==============================] - 0s 4ms/step - loss: 210.0123 - binary_accuracy: 0.7504\n",
      "Epoch 3/50\n",
      "32/32 [==============================] - 0s 4ms/step - loss: 260.6347 - binary_accuracy: 0.7504\n",
      "Epoch 4/50\n",
      "32/32 [==============================] - 0s 4ms/step - loss: 288.5434 - binary_accuracy: 0.7504\n",
      "Epoch 5/50\n",
      "32/32 [==============================] - 0s 4ms/step - loss: 291.6289 - binary_accuracy: 0.7504\n",
      "Epoch 6/50\n",
      "32/32 [==============================] - 0s 5ms/step - loss: 277.9780 - binary_accuracy: 0.7504\n",
      "Epoch 7/50\n",
      "32/32 [==============================] - 0s 4ms/step - loss: 280.5459 - binary_accuracy: 0.7504\n",
      "Epoch 8/50\n",
      "32/32 [==============================] - 0s 4ms/step - loss: 288.7932 - binary_accuracy: 0.7504\n",
      "Epoch 9/50\n",
      "32/32 [==============================] - 0s 4ms/step - loss: 262.0695 - binary_accuracy: 0.7504\n",
      "Epoch 10/50\n",
      "32/32 [==============================] - 0s 4ms/step - loss: 262.6082 - binary_accuracy: 0.7504\n",
      "Epoch 11/50\n",
      "32/32 [==============================] - 0s 4ms/step - loss: 255.8018 - binary_accuracy: 0.7504\n",
      "Epoch 12/50\n",
      "32/32 [==============================] - 0s 4ms/step - loss: 288.5473 - binary_accuracy: 0.7504\n",
      "Epoch 13/50\n",
      "32/32 [==============================] - 0s 4ms/step - loss: 263.6713 - binary_accuracy: 0.7504\n",
      "Epoch 14/50\n",
      "32/32 [==============================] - 0s 4ms/step - loss: 277.2778 - binary_accuracy: 0.7504\n",
      "Epoch 15/50\n",
      "32/32 [==============================] - 0s 4ms/step - loss: 257.8904 - binary_accuracy: 0.7504\n",
      "Epoch 16/50\n",
      "32/32 [==============================] - 0s 4ms/step - loss: 276.7986 - binary_accuracy: 0.7504\n",
      "Epoch 17/50\n",
      "32/32 [==============================] - 0s 4ms/step - loss: 272.2733 - binary_accuracy: 0.7504\n",
      "Epoch 18/50\n",
      "32/32 [==============================] - 0s 4ms/step - loss: 255.0951 - binary_accuracy: 0.7504\n",
      "Epoch 19/50\n",
      "32/32 [==============================] - 0s 4ms/step - loss: 277.3132 - binary_accuracy: 0.7504\n",
      "Epoch 20/50\n",
      "32/32 [==============================] - 0s 4ms/step - loss: 279.1595 - binary_accuracy: 0.7501\n",
      "Epoch 21/50\n",
      "32/32 [==============================] - 0s 4ms/step - loss: 281.4436 - binary_accuracy: 0.7504\n",
      "Epoch 22/50\n",
      "32/32 [==============================] - 0s 4ms/step - loss: 250.5093 - binary_accuracy: 0.7504\n",
      "Epoch 23/50\n",
      "32/32 [==============================] - 0s 5ms/step - loss: 264.8511 - binary_accuracy: 0.7504\n",
      "Epoch 24/50\n",
      "32/32 [==============================] - 0s 4ms/step - loss: 269.2804 - binary_accuracy: 0.7504\n",
      "Epoch 25/50\n",
      "32/32 [==============================] - 0s 4ms/step - loss: 262.8562 - binary_accuracy: 0.7504\n",
      "Epoch 26/50\n",
      "32/32 [==============================] - 0s 4ms/step - loss: 276.6860 - binary_accuracy: 0.7504\n",
      "Epoch 27/50\n",
      "32/32 [==============================] - 0s 4ms/step - loss: 262.2404 - binary_accuracy: 0.7504\n",
      "Epoch 28/50\n",
      "32/32 [==============================] - 0s 4ms/step - loss: 285.2357 - binary_accuracy: 0.7504\n",
      "Epoch 29/50\n",
      "32/32 [==============================] - 0s 4ms/step - loss: 273.9228 - binary_accuracy: 0.7504\n",
      "Epoch 30/50\n",
      "32/32 [==============================] - 0s 4ms/step - loss: 269.9263 - binary_accuracy: 0.7503\n",
      "Epoch 31/50\n",
      "32/32 [==============================] - 0s 4ms/step - loss: 285.9891 - binary_accuracy: 0.7504\n",
      "Epoch 32/50\n",
      "32/32 [==============================] - 0s 4ms/step - loss: 277.0662 - binary_accuracy: 0.7504\n",
      "Epoch 33/50\n",
      "32/32 [==============================] - 0s 4ms/step - loss: 248.0764 - binary_accuracy: 0.7504\n",
      "Epoch 34/50\n",
      "32/32 [==============================] - 0s 4ms/step - loss: 262.5912 - binary_accuracy: 0.7504\n",
      "Epoch 35/50\n",
      "32/32 [==============================] - 0s 5ms/step - loss: 266.7013 - binary_accuracy: 0.7502\n",
      "Epoch 36/50\n",
      "32/32 [==============================] - 0s 4ms/step - loss: 263.7491 - binary_accuracy: 0.7504\n",
      "Epoch 37/50\n",
      "32/32 [==============================] - 0s 4ms/step - loss: 272.9703 - binary_accuracy: 0.7504\n",
      "Epoch 38/50\n",
      "32/32 [==============================] - 0s 4ms/step - loss: 275.8476 - binary_accuracy: 0.7504\n",
      "Epoch 39/50\n",
      "32/32 [==============================] - 0s 4ms/step - loss: 257.9919 - binary_accuracy: 0.7504\n",
      "Epoch 40/50\n",
      "32/32 [==============================] - 0s 4ms/step - loss: 249.1553 - binary_accuracy: 0.7504\n",
      "Epoch 41/50\n",
      "32/32 [==============================] - 0s 4ms/step - loss: 276.1476 - binary_accuracy: 0.7504\n",
      "Epoch 42/50\n",
      "32/32 [==============================] - 0s 4ms/step - loss: 263.7371 - binary_accuracy: 0.7504\n",
      "Epoch 43/50\n",
      "32/32 [==============================] - 0s 4ms/step - loss: 263.7039 - binary_accuracy: 0.7504\n",
      "Epoch 44/50\n",
      "32/32 [==============================] - 0s 4ms/step - loss: 271.4399 - binary_accuracy: 0.7504\n",
      "Epoch 45/50\n",
      "32/32 [==============================] - 0s 4ms/step - loss: 268.6380 - binary_accuracy: 0.7504\n",
      "Epoch 46/50\n",
      "32/32 [==============================] - 0s 4ms/step - loss: 266.6151 - binary_accuracy: 0.7504\n",
      "Epoch 47/50\n",
      "32/32 [==============================] - 0s 4ms/step - loss: 236.8634 - binary_accuracy: 0.7504\n",
      "Epoch 48/50\n",
      "32/32 [==============================] - 0s 4ms/step - loss: 245.3210 - binary_accuracy: 0.7504\n",
      "Epoch 49/50\n",
      "32/32 [==============================] - 0s 4ms/step - loss: 260.7707 - binary_accuracy: 0.7504\n",
      "Epoch 50/50\n",
      "32/32 [==============================] - 0s 4ms/step - loss: 263.7084 - binary_accuracy: 0.7504\n"
     ]
    },
    {
     "data": {
      "text/plain": [
       "[<matplotlib.lines.Line2D at 0x7f05702ea580>]"
      ]
     },
     "execution_count": 308,
     "metadata": {},
     "output_type": "execute_result"
    },
    {
     "data": {
      "image/png": "[encoded data removed]",
      "text/plain": [
       "<Figure size 540x252 with 1 Axes>"
      ]
     },
     "metadata": {
      "needs_background": "light"
     },
     "output_type": "display_data"
    }
   ],
   "source": [
    "loss_fn = tf.keras.losses.CategoricalCrossentropy(from_logits=False)\n",
    "#loss_fn = tf.keras.metrics.BinaryAccuracy()\n",
    "#loss_fn = tf.keras.losses.BinaryCrossentropy(from_logits=True)\n",
    "#loss_fn = tf.keras.losses.SparseCategoricalCrossentropy(from_logits=True, reduction=\"auto\",name=\"sparse_categorical_crossentropy\")\n",
    "\n",
    "\n",
    "predictions = model(x_train).numpy()\n",
    "\n",
    "loss_fn(y_train, predictions).numpy()\n",
    "\n",
    "model.compile(optimizer=tf.keras.optimizers.Adam(learning_rate=0.1),\n",
    "              loss=loss_fn,\n",
    "              metrics=[tf.keras.metrics.BinaryAccuracy()]\n",
    "                #metrics= [tf.keras.losses.CategoricalCrossentropy()]\n",
    "             )\n",
    "train_history = model.fit(x=x_train, y=y_train, epochs=50,verbose=1)\n",
    "plt.title(\"Loss\")\n",
    "plt.plot(train_history.history['loss'], 'k')"
   ]
  },
  {
   "cell_type": "code",
   "execution_count": 309,
   "id": "28d91f41",
   "metadata": {},
   "outputs": [
    {
     "name": "stdout",
     "output_type": "stream",
     "text": [
      "Input:    [1 0 1 1 0 1 1 1 0 0 1 0 1 1 1 1 1 1 1 0 0 1 0 1 0 1 1 1 0 0 0 0 1 0 0 1 1\n",
      " 1 0 1 1 1 1 1 0 0 1 0 0 1 1 1 0 0 0 1 0 1 0 1 1 0 1 0 0 0 1 1 1 0 1 1 1 0\n",
      " 1 1 0 1 0 0 0 1 0 0 0 0 1 1 0 1 1 1 1 0 1 0 0 0 0 1]\n",
      "Model prd: [2.05790661e-02 8.20735295e-05 2.69371696e-04 1.48805594e-02\n",
      " 2.22479552e-03 5.82162244e-03 1.51331434e-07 1.72152141e-07\n",
      " 7.39303505e-05 2.23350315e-03 1.86897296e-06 3.53391515e-04\n",
      " 2.06503610e-05 2.80691753e-03 2.46984954e-03 1.85707177e-03\n",
      " 3.20825318e-04 3.15188045e-05 2.23820377e-02 3.91524174e-11\n",
      " 7.23589401e-05 8.77813545e-06 2.21146751e-04 2.43010646e-07\n",
      " 1.76804460e-05 3.09834760e-02 3.77911806e-06 3.86931461e-05\n",
      " 4.76185527e-08 1.49826305e-02 7.69682262e-10 2.32789944e-07\n",
      " 2.51856283e-03 3.48200629e-05 1.08021274e-02 1.31468400e-01\n",
      " 1.35215417e-09 1.25147199e-04 2.01993666e-09 1.80279294e-12\n",
      " 9.89472494e-02 4.51247357e-02 5.99608114e-08 3.28112917e-04\n",
      " 7.75014749e-03 6.58245819e-11 1.37499478e-08 1.15568139e-01\n",
      " 1.05250217e-06 5.77068003e-03 6.52140884e-08 1.36911447e-04\n",
      " 6.12172585e-13 9.19317245e-04 2.29112440e-09 4.86269601e-05\n",
      " 3.71911637e-02 8.84566305e-07 2.71035563e-02 2.77255964e-07\n",
      " 3.69823965e-07 1.62818119e-01 1.21360969e-07 5.92976401e-04\n",
      " 1.17909847e-04 7.02221738e-03 8.12087208e-04 2.11750759e-07\n",
      " 2.31238550e-06 1.13443583e-01 8.63747485e-03 2.18964924e-05\n",
      " 2.46115434e-07 7.31463362e-11 3.16112819e-05 9.24719614e-04\n",
      " 3.21548544e-02 1.41831511e-03 1.69418880e-03 1.90668879e-03\n",
      " 1.00626801e-06 4.51792260e-07 5.91907743e-03 1.02272481e-02\n",
      " 8.89294141e-04 5.68506766e-05 2.40433595e-13 1.00083719e-03\n",
      " 2.54079630e-03 1.15577492e-07 1.28654800e-02 3.97716969e-04\n",
      " 2.05589794e-02 3.64663801e-03 7.52413907e-05 3.62208752e-09\n",
      " 3.09696043e-05 1.40727789e-03 2.13122368e-03 7.23589401e-05]\n",
      "ytrain:    [0. 0. 1. 0. 0. 1. 0. 0. 0. 1. 0. 0. 1. 0. 0. 0. 0. 0. 0. 0. 1. 0. 0. 0.\n",
      " 0. 1. 0. 0. 0. 0. 0. 1. 0. 0. 1. 1. 0. 0. 0. 1. 0. 0. 0. 0. 0. 1. 0. 0.\n",
      " 1. 1. 0. 0. 0. 0. 1. 0. 0. 0. 0. 1. 0. 0. 0. 0. 0. 1. 1. 0. 0. 0. 1. 0.\n",
      " 0. 0. 1. 0. 0. 0. 0. 0. 1. 0. 0. 0. 0. 1. 1. 0. 0. 1. 0. 0. 0. 0. 0. 0.\n",
      " 0. 0. 1. 1.]\n"
     ]
    },
    {
     "data": {
      "image/png": "[encoded data removed]",
      "text/plain": [
       "<Figure size 540x252 with 1 Axes>"
      ]
     },
     "metadata": {
      "needs_background": "light"
     },
     "output_type": "display_data"
    },
    {
     "data": {
      "image/png": "[encoded data removed]",
      "text/plain": [
       "<Figure size 540x252 with 1 Axes>"
      ]
     },
     "metadata": {
      "needs_background": "light"
     },
     "output_type": "display_data"
    },
    {
     "data": {
      "image/png": "[encoded data removed]",
      "text/plain": [
       "<Figure size 540x252 with 1 Axes>"
      ]
     },
     "metadata": {
      "needs_background": "light"
     },
     "output_type": "display_data"
    }
   ],
   "source": [
    "num=100\n",
    "\n",
    "print(\"Input:   \",np.array(x_train).reshape(N,L)[num])\n",
    "print(\"Model prd:\",model(x_train)[num].numpy())\n",
    "print(\"ytrain:   \",y_train[num])\n",
    "\n",
    "\n",
    "\n",
    "from matplotlib import pyplot as plt\n",
    "\n",
    "arr_x = np.array([np.array(x_train).reshape(N,L)[num]])\n",
    "arr_model = np.array([model(x_train)[num].numpy()])\n",
    "arr_y = np.array([y_train[num]])\n",
    "\n",
    "\n",
    "color_map = plt.cm.get_cmap('gray')\n",
    "plt.axis('off')\n",
    "plt.title(\"Input\")\n",
    "plt.imshow(arr_x,cmap=color_map.reversed())\n",
    "plt.show()\n",
    "plt.axis('off')\n",
    "plt.title(\"Prediction\")\n",
    "plt.imshow(arr_model,cmap=color_map.reversed())\n",
    "plt.show()\n",
    "plt.axis('off')\n",
    "plt.title(\"Truth\")\n",
    "plt.imshow(arr_y,cmap=color_map.reversed())\n",
    "plt.show()"
   ]
  },
  {
   "cell_type": "markdown",
   "id": "997585fd",
   "metadata": {},
   "source": [
    "Somehow my model only seems to predict zeroes and thus gets an accuracy equal to the average number of zeros :/"
   ]
  },
  {
   "cell_type": "code",
   "execution_count": null,
   "id": "7abca5a2",
   "metadata": {},
   "outputs": [],
   "source": []
  }
 ],
 "metadata": {
  "kernelspec": {
   "display_name": "Python 3 (ipykernel)",
   "language": "python",
   "name": "python3"
  },
  "language_info": {
   "codemirror_mode": {
    "name": "ipython",
    "version": 3
   },
   "file_extension": ".py",
   "mimetype": "text/x-python",
   "name": "python",
   "nbconvert_exporter": "python",
   "pygments_lexer": "ipython3",
   "version": "3.8.10"
  }
 },
 "nbformat": 4,
 "nbformat_minor": 5
}
