{
 "cells": [
  {
   "cell_type": "code",
   "execution_count": 3,
   "id": "c44e91f9",
   "metadata": {},
   "outputs": [
    {
     "name": "stderr",
     "output_type": "stream",
     "text": [
      "2022-01-12 12:03:18.395591: W tensorflow/stream_executor/platform/default/dso_loader.cc:64] Could not load dynamic library 'libcudart.so.11.0'; dlerror: libcudart.so.11.0: cannot open shared object file: No such file or directory\n",
      "2022-01-12 12:03:18.395637: I tensorflow/stream_executor/cuda/cudart_stub.cc:29] Ignore above cudart dlerror if you do not have a GPU set up on your machine.\n"
     ]
    }
   ],
   "source": [
    "import argparse\n",
    "import numpy as np\n",
    "import matplotlib.pyplot as plt\n",
    "import matplotlib.animation as animation\n",
    "import tensorflow as tf"
   ]
  },
  {
   "cell_type": "markdown",
   "id": "d5b297c7",
   "metadata": {},
   "source": [
    "# Learning Simple Laws"
   ]
  },
  {
   "cell_type": "markdown",
   "id": "584557c9",
   "metadata": {},
   "source": [
    "## Constant motion"
   ]
  },
  {
   "cell_type": "code",
   "execution_count": 36,
   "id": "cc8f0f04",
   "metadata": {},
   "outputs": [],
   "source": [
    "L=10 #length of 1-d box\n",
    "\n",
    "def cm_update(x):\n",
    "    L=len(x)\n",
    "    y=x.copy()\n",
    "    for i in range(L):\n",
    "        y[i]=x[(i-1)%L]\n",
    "    return(y)\n"
   ]
  },
  {
   "cell_type": "markdown",
   "id": "9c5d401d",
   "metadata": {},
   "source": [
    "## Wolfram's 256 Rules"
   ]
  },
  {
   "cell_type": "markdown",
   "id": "fdbd0766",
   "metadata": {},
   "source": [
    "These are all cellular automaton rules for a 1-d array with only neares neighbour interaction. There are therefore only three cells (L,C,R) determining the outcome of one cell (C). This gives 2^3=8 possible combinations that can give rise to an outcome of 2 possibilities. Thus there are 2^8=256 possible rules. \n",
    "\n",
    "The following function generates each of these rules."
   ]
  },
  {
   "cell_type": "code",
   "execution_count": null,
   "id": "88558917",
   "metadata": {},
   "outputs": [],
   "source": [
    "def WR(num,x,t):\n",
    "    np.binary_rep\n"
   ]
  },
  {
   "cell_type": "code",
   "execution_count": 14,
   "id": "b95d5bd4",
   "metadata": {},
   "outputs": [
    {
     "data": {
      "text/plain": [
       "<numpy.vectorize at 0x7fc0ca7d5160>"
      ]
     },
     "execution_count": 14,
     "metadata": {},
     "output_type": "execute_result"
    }
   ],
   "source": [
    "np.vectorize(np.binary_repr(2,width=9))"
   ]
  },
  {
   "cell_type": "markdown",
   "id": "d2a7aed1",
   "metadata": {},
   "source": [
    "### Learning"
   ]
  },
  {
   "cell_type": "code",
   "execution_count": 44,
   "id": "842b6a0d",
   "metadata": {},
   "outputs": [
    {
     "data": {
      "text/plain": [
       "5"
      ]
     },
     "execution_count": 44,
     "metadata": {},
     "output_type": "execute_result"
    }
   ],
   "source": [
    "np.random.randint(L)"
   ]
  },
  {
   "cell_type": "code",
   "execution_count": 116,
   "id": "bd88a00c",
   "metadata": {},
   "outputs": [],
   "source": [
    "N=10000 #batch size\n",
    "L=10 #Length of box\n",
    "\n",
    "x_train=[]\n",
    "y_train=[]\n",
    "\n",
    "\n",
    "for i in range(N):\n",
    "    x=np.zeros(L)\n",
    "    x[np.random.randint(L)]=1\n",
    "    x_train.append(x)\n",
    "    y_train.append(cm_update(x))\n",
    "\n",
    "x_train = np.array(x_train).reshape(N,L)\n",
    "y_train = np.array(y_train).reshape(N,L)"
   ]
  },
  {
   "cell_type": "code",
   "execution_count": 153,
   "id": "f365743c",
   "metadata": {},
   "outputs": [],
   "source": [
    "model = tf.keras.models.Sequential([\n",
    "    tf.keras.layers.Flatten(),\n",
    "    tf.keras.layers.Dense(2),\n",
    "    tf.keras.layers.Dense(L,activation=\"softmax\")\n",
    "])"
   ]
  },
  {
   "cell_type": "code",
   "execution_count": 156,
   "id": "f851c8a4",
   "metadata": {},
   "outputs": [
    {
     "name": "stdout",
     "output_type": "stream",
     "text": [
      "Epoch 1/6\n",
      "313/313 [==============================] - 1s 1ms/step - loss: 0.1163 - binary_accuracy: 1.0000\n",
      "Epoch 2/6\n",
      "313/313 [==============================] - 0s 1ms/step - loss: 0.0862 - binary_accuracy: 1.0000\n",
      "Epoch 3/6\n",
      "313/313 [==============================] - 0s 1ms/step - loss: 0.0645 - binary_accuracy: 1.0000\n",
      "Epoch 4/6\n",
      "313/313 [==============================] - 0s 1ms/step - loss: 0.0490 - binary_accuracy: 1.0000\n",
      "Epoch 5/6\n",
      "313/313 [==============================] - 0s 1ms/step - loss: 0.0378 - binary_accuracy: 1.0000\n",
      "Epoch 6/6\n",
      "313/313 [==============================] - 0s 1ms/step - loss: 0.0296 - binary_accuracy: 1.0000\n"
     ]
    }
   ],
   "source": [
    "loss_fn = tf.keras.losses.CategoricalCrossentropy(from_logits=True)\n",
    "predictions = model(x_train).numpy()\n",
    "loss_fn(y_train, predictions).numpy()\n",
    "model.compile(optimizer='adam',\n",
    "              loss=loss_fn,\n",
    "              metrics=[tf.keras.metrics.BinaryAccuracy()])\n",
    "model.fit(x_train, y_train, epochs=6)\n",
    "pred=model(x_train).numpy()"
   ]
  },
  {
   "cell_type": "code",
   "execution_count": 157,
   "id": "f536dc0b",
   "metadata": {},
   "outputs": [
    {
     "data": {
      "text/plain": [
       "array([[0., 0., 0., 1., 0., 0., 0., 0., 0., 0.]], dtype=float32)"
      ]
     },
     "execution_count": 157,
     "metadata": {},
     "output_type": "execute_result"
    }
   ],
   "source": [
    "a=np.array([0,0,1,0,0,0,0,0,0,0]).reshape(1,10)\n",
    "np.rint(model(a).numpy())"
   ]
  },
  {
   "cell_type": "markdown",
   "id": "2ce9195d",
   "metadata": {},
   "source": [
    "## Accelerated motion"
   ]
  }
 ],
 "metadata": {
  "kernelspec": {
   "display_name": "Python 3 (ipykernel)",
   "language": "python",
   "name": "python3"
  },
  "language_info": {
   "codemirror_mode": {
    "name": "ipython",
    "version": 3
   },
   "file_extension": ".py",
   "mimetype": "text/x-python",
   "name": "python",
   "nbconvert_exporter": "python",
   "pygments_lexer": "ipython3",
   "version": "3.8.10"
  }
 },
 "nbformat": 4,
 "nbformat_minor": 5
}
