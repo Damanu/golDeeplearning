{
 "cells": [
  {
   "cell_type": "markdown",
   "id": "41c316a5",
   "metadata": {},
   "source": [
    "# Experimenting with PySR\n",
    "downloads here (second for julia):  \n",
    "https://github.com/MilesCranmer/PySR  \n",
    "https://julialang.org/downloads/platform/#running_julia  \n"
   ]
  },
  {
   "cell_type": "code",
   "execution_count": 1,
   "id": "8d504ad5",
   "metadata": {},
   "outputs": [],
   "source": [
    "import numpy as np\n",
    "\n",
    "X = 2 * np.random.randn(100, 5)\n",
    "y = 2.5382 * np.cos(X[:, 3]) + X[:, 0] ** 2 - 0.5"
   ]
  },
  {
   "cell_type": "code",
   "execution_count": 2,
   "id": "bb5d64b1",
   "metadata": {},
   "outputs": [],
   "source": [
    "from pysr import PySRRegressor\n",
    "model = PySRRegressor(\n",
    "    niterations=40,\n",
    "    binary_operators=[\"+\", \"*\"],\n",
    "    unary_operators=[\n",
    "        \"cos\",\n",
    "        \"exp\",\n",
    "        \"sin\",\n",
    "        \"inv(x) = 1/x\",  # Custom operator (julia syntax)\n",
    "    ],\n",
    "    model_selection=\"best\",\n",
    "    loss=\"loss(x, y) = (x - y)^2\",  # Custom loss function (julia syntax)\n",
    ")"
   ]
  },
  {
   "cell_type": "code",
   "execution_count": 3,
   "id": "fb3f5b0c",
   "metadata": {},
   "outputs": [
    {
     "name": "stderr",
     "output_type": "stream",
     "text": [
      "  Activating project at `~/.julia/environments/pysr-0.8.3`\n",
      "    Updating registry at `~/.julia/registries/General.toml`\n",
      "   Resolving package versions...\n",
      "  No Changes to `~/.julia/environments/pysr-0.8.3/Project.toml`\n",
      "  No Changes to `~/.julia/environments/pysr-0.8.3/Manifest.toml`\n",
      "   Resolving package versions...\n",
      "  No Changes to `~/.julia/environments/pysr-0.8.3/Project.toml`\n",
      "  No Changes to `~/.julia/environments/pysr-0.8.3/Manifest.toml`\n",
      "  No Changes to `~/.julia/environments/pysr-0.8.3/Project.toml`\n",
      "  No Changes to `~/.julia/environments/pysr-0.8.3/Manifest.toml`\n",
      "WARNING: ignoring conflicting import of CoreModule.div into SymbolicRegression\n"
     ]
    },
    {
     "name": "stdout",
     "output_type": "stream",
     "text": [
      "Started!\n",
      "\n",
      "Cycles per second: 4.950e+04\n",
      "Head worker occupation: 11.3%\n",
      "Progress: 138 / 600 total iterations (23.000%)\n",
      "==============================\n",
      "Hall of Fame:\n",
      "-----------------------------------------\n",
      "Complexity  loss       Score     Equation\n",
      "1           4.074e+01  1.872e-07  3.7224956\n",
      "3           3.099e+00  1.288e+00  (x0 * x0)\n",
      "5           3.025e+00  1.206e-02  ((x0 * x0) * 0.9635491)\n",
      "6           1.219e+00  9.085e-01  ((x0 * x0) + cos(x3))\n",
      "8           2.418e-01  8.089e-01  ((x0 * x0) + (cos(x3) * 2.4094012))\n",
      "10          3.059e-13  1.151e+01  (((x0 * x0) + (cos(x3) * 2.5382)) + -0.5)\n",
      "13          1.496e-13  2.385e-01  (((x0 * x0) + cos(x3)) + ((cos(x3) * 1.5382) + -0.50000006))\n",
      "\n",
      "==============================\n",
      "Press 'q' and then <enter> to stop execution early.\n",
      "\n",
      "Cycles per second: 6.010e+04\n",
      "Head worker occupation: 6.8%\n",
      "Progress: 334 / 600 total iterations (55.667%)\n",
      "==============================\n",
      "Hall of Fame:\n",
      "-----------------------------------------\n",
      "Complexity  loss       Score     Equation\n",
      "1           4.074e+01  1.872e-07  3.7224956\n",
      "3           3.099e+00  1.288e+00  (x0 * x0)\n",
      "5           3.025e+00  1.206e-02  ((x0 * x0) * 0.9635491)\n",
      "6           1.219e+00  9.085e-01  ((x0 * x0) + cos(x3))\n",
      "8           2.418e-01  8.089e-01  ((x0 * x0) + (cos(x3) * 2.4094012))\n",
      "9           2.416e-01  9.862e-04  ((x0 * x0) + (sin(cos(x3)) * 2.736315))\n",
      "10          3.059e-13  2.301e+01  (((x0 * x0) + (cos(x3) * 2.5382)) + -0.5)\n",
      "13          1.496e-13  2.385e-01  (((x0 * x0) + cos(x3)) + ((cos(x3) * 1.5382) + -0.50000006))\n",
      "\n",
      "==============================\n",
      "Press 'q' and then <enter> to stop execution early.\n",
      "\n",
      "Cycles per second: 6.380e+04\n",
      "Head worker occupation: 6.2%\n",
      "Progress: 531 / 600 total iterations (88.500%)\n",
      "==============================\n",
      "Hall of Fame:\n",
      "-----------------------------------------\n",
      "Complexity  loss       Score     Equation\n",
      "1           4.074e+01  1.872e-07  3.7224956\n",
      "3           3.099e+00  1.288e+00  (x0 * x0)\n",
      "5           3.025e+00  1.206e-02  ((x0 * 0.9635491) * x0)\n",
      "6           1.219e+00  9.085e-01  ((x0 * x0) + cos(x3))\n",
      "8           2.418e-01  8.089e-01  ((x0 * x0) + (cos(x3) * 2.4094012))\n",
      "9           2.416e-01  9.862e-04  ((x0 * x0) + (sin(cos(x3)) * 2.736315))\n",
      "10          3.059e-13  2.301e+01  (((x0 * x0) + (cos(x3) * 2.5382)) + -0.5)\n",
      "13          1.496e-13  2.385e-01  (((x0 * x0) + cos(x3)) + ((cos(x3) * 1.5382) + -0.50000006))\n",
      "\n",
      "==============================\n",
      "Press 'q' and then <enter> to stop execution early.\n"
     ]
    },
    {
     "data": {
      "text/plain": [
       "PySRRegressor.equations = [\n",
       "\t   pick      score                                           equation  \\\n",
       "\t0         0.000000                                          3.7224956   \n",
       "\t1         1.288080                                          (x0 * x0)   \n",
       "\t2         0.012063                            ((x0 * 0.9635491) * x0)   \n",
       "\t3         0.908520                              ((x0 * x0) + cos(x3))   \n",
       "\t4         0.808930                ((x0 * x0) + (cos(x3) * 2.4094012))   \n",
       "\t5         0.000986            ((x0 * x0) + (sin(cos(x3)) * 2.736315))   \n",
       "\t6  >>>>  27.394926          (((x0 * x0) + (cos(x3) * 2.5382)) + -0.5)   \n",
       "\t7         0.238470  (((x0 * x0) + cos(x3)) + ((cos(x3) * 1.5382) +...   \n",
       "\t\n",
       "\t           loss  complexity  \n",
       "\t0  4.073783e+01           1  \n",
       "\t1  3.098746e+00           3  \n",
       "\t2  3.024878e+00           5  \n",
       "\t3  1.219390e+00           6  \n",
       "\t4  2.418328e-01           8  \n",
       "\t5  2.415944e-01           9  \n",
       "\t6  3.059297e-13          10  \n",
       "\t7  1.495970e-13          13  \n",
       "]"
      ]
     },
     "execution_count": 3,
     "metadata": {},
     "output_type": "execute_result"
    }
   ],
   "source": [
    "model.fit(X, y)"
   ]
  },
  {
   "cell_type": "code",
   "execution_count": 4,
   "id": "fe09fcc2",
   "metadata": {},
   "outputs": [
    {
     "name": "stdout",
     "output_type": "stream",
     "text": [
      "PySRRegressor.equations = [\n",
      "\t   pick      score                                           equation  \\\n",
      "\t0         0.000000                                          3.7224956   \n",
      "\t1         1.288080                                          (x0 * x0)   \n",
      "\t2         0.012063                            ((x0 * 0.9635491) * x0)   \n",
      "\t3         0.908520                              ((x0 * x0) + cos(x3))   \n",
      "\t4         0.808930                ((x0 * x0) + (cos(x3) * 2.4094012))   \n",
      "\t5         0.000986            ((x0 * x0) + (sin(cos(x3)) * 2.736315))   \n",
      "\t6  >>>>  27.394926          (((x0 * x0) + (cos(x3) * 2.5382)) + -0.5)   \n",
      "\t7         0.238470  (((x0 * x0) + cos(x3)) + ((cos(x3) * 1.5382) +...   \n",
      "\t\n",
      "\t           loss  complexity  \n",
      "\t0  4.073783e+01           1  \n",
      "\t1  3.098746e+00           3  \n",
      "\t2  3.024878e+00           5  \n",
      "\t3  1.219390e+00           6  \n",
      "\t4  2.418328e-01           8  \n",
      "\t5  2.415944e-01           9  \n",
      "\t6  3.059297e-13          10  \n",
      "\t7  1.495970e-13          13  \n",
      "]\n"
     ]
    }
   ],
   "source": [
    "print(model)"
   ]
  },
  {
   "cell_type": "code",
   "execution_count": null,
   "id": "1a312b07",
   "metadata": {},
   "outputs": [],
   "source": []
  }
 ],
 "metadata": {
  "kernelspec": {
   "display_name": "Python 3 (ipykernel)",
   "language": "python",
   "name": "python3"
  },
  "language_info": {
   "codemirror_mode": {
    "name": "ipython",
    "version": 3
   },
   "file_extension": ".py",
   "mimetype": "text/x-python",
   "name": "python",
   "nbconvert_exporter": "python",
   "pygments_lexer": "ipython3",
   "version": "3.8.10"
  }
 },
 "nbformat": 4,
 "nbformat_minor": 5
}
